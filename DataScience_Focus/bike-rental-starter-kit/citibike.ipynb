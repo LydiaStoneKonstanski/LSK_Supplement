{
 "cells": [
  {
   "cell_type": "code",
   "execution_count": 1,
   "id": "3cad1476-b3b5-4eef-960a-884e652ff09f",
   "metadata": {},
   "outputs": [],
   "source": [
    "import pandas as pd\n",
    "import numpy as np\n",
    "import matplotlib as plt\n",
    "import glob\n",
    "from sklearn.experimental import enable_iterative_imputer\n",
    "from sklearn.impute import IterativeImputer"
   ]
  },
  {
   "cell_type": "markdown",
   "id": "26960d37-6744-456d-a9eb-d4e4d0bb43c0",
   "metadata": {},
   "source": [
    "### Iterate through CSVs, concat files, and create DataFrame:"
   ]
  },
  {
   "cell_type": "code",
   "execution_count": 4,
   "id": "3b83048c-55ad-41b8-a3c3-6dea9bfc43b1",
   "metadata": {},
   "outputs": [],
   "source": [
    "files = glob.glob('data/JC-2016*-citibike-tripdata.csv')\n",
    "df_list = []\n",
    "for filename in files: \n",
    "    data = pd.read_csv(filename)\n",
    "    df_list.append(data)\n",
    "df = pd.concat(df_list)    "
   ]
  },
  {
   "cell_type": "markdown",
   "id": "9ba2847e-305e-4a7e-a12d-8ac171c2a4d6",
   "metadata": {},
   "source": [
    "### Inspect the dataframe:"
   ]
  },
  {
   "cell_type": "raw",
   "id": "7f1eee4c-ed60-4d36-93e6-9b23ecadaa11",
   "metadata": {
    "scrolled": true
   },
   "source": [
    "df.head(10)"
   ]
  },
  {
   "cell_type": "raw",
   "id": "57f53a68-8bad-4ee9-a0ce-fd8043f2dbf8",
   "metadata": {},
   "source": [
    "df.dtypes"
   ]
  },
  {
   "cell_type": "markdown",
   "id": "15edbbeb-eb29-4a6e-a5d0-019016cc9103",
   "metadata": {},
   "source": [
    "Start Time, Stop Time, and Birth Year seem like they should be timestamps and dates, but are objects. "
   ]
  },
  {
   "cell_type": "markdown",
   "id": "4b4e7458-b54c-48e6-a9ce-d63258890dbf",
   "metadata": {},
   "source": [
    "df.describe"
   ]
  },
  {
   "cell_type": "raw",
   "id": "eeadd3c0-15b8-4a9c-b4d5-023d271e62d5",
   "metadata": {},
   "source": [
    "df.info()"
   ]
  },
  {
   "cell_type": "markdown",
   "id": "d436d3a5-f6f9-499e-9e6b-a4cdd3a68b90",
   "metadata": {},
   "source": [
    "User Type has 380 null values, <br> and Birth Year has 18,999 null values"
   ]
  },
  {
   "cell_type": "markdown",
   "id": "b1da17ca-65a9-4a7e-9156-0c7ea40b75d5",
   "metadata": {},
   "source": [
    "df.shape"
   ]
  },
  {
   "cell_type": "code",
   "execution_count": 11,
   "id": "4f561a37-a283-4aac-9e2a-93da8ad4eb77",
   "metadata": {},
   "outputs": [],
   "source": [
    "#Are there more starts or ends? \n",
    "start_station_names = df['Start Station Name'].unique()"
   ]
  },
  {
   "cell_type": "code",
   "execution_count": 13,
   "id": "f397dcb9-0622-4402-8b48-95d19266a263",
   "metadata": {},
   "outputs": [],
   "source": [
    "#There are more ends\n",
    "end_station_names = df['End Station Name'].unique()"
   ]
  },
  {
   "cell_type": "raw",
   "id": "8c00f28b-984b-4cd1-805b-59ee53342f27",
   "metadata": {},
   "source": [
    "print(start_station_names)\n",
    "print(end_station_names)"
   ]
  },
  {
   "cell_type": "markdown",
   "id": "8919c600-51b6-4a03-8913-721d717ab1bf",
   "metadata": {},
   "source": [
    "### Haversine formula calculates trip distance"
   ]
  },
  {
   "cell_type": "code",
   "execution_count": 16,
   "id": "e1c2d5b8-6364-44e4-9331-29a18158fecb",
   "metadata": {},
   "outputs": [
    {
     "name": "stdout",
     "output_type": "stream",
     "text": [
      "       Start Station Latitude  End Station Latitude  Start Station Longitude  \\\n",
      "0                   40.727224             40.727596               -74.033759   \n",
      "1                   40.730743             40.725340               -74.063784   \n",
      "2                   40.716247             40.742677               -74.033459   \n",
      "3                   40.712774             40.727596               -74.036486   \n",
      "4                   40.727596             40.712774               -74.044247   \n",
      "...                       ...                   ...                      ...   \n",
      "19483               40.719586             40.724176               -74.043117   \n",
      "19484               40.724176             40.721525               -74.050656   \n",
      "19485               40.728745             40.728745               -74.032108   \n",
      "19486               40.734961             40.746730               -74.059503   \n",
      "19487               40.717732             40.721525               -74.043845   \n",
      "\n",
      "       End Station Longitude  Trip Length (km)  \n",
      "0                 -74.044247          0.884786  \n",
      "1                 -74.067622          0.682284  \n",
      "2                 -74.051789          3.320056  \n",
      "3                 -74.044247          1.773164  \n",
      "4                 -74.036486          1.773164  \n",
      "...                      ...               ...  \n",
      "19483             -74.050656          0.814972  \n",
      "19484             -74.046305          0.470547  \n",
      "19485             -74.032108          0.000000  \n",
      "19486             -74.049251          1.567985  \n",
      "19487             -74.046305          0.469910  \n",
      "\n",
      "[247584 rows x 5 columns]\n"
     ]
    }
   ],
   "source": [
    "#Earth radius in kilometers (use 3958.8 for miles)\n",
    "R = 6371  \n",
    "\n",
    "# Convert latitude and longitude from degrees to radians\n",
    "df['start_lat_rad'] = np.radians(df['Start Station Latitude'])\n",
    "df['end_lat_rad'] = np.radians(df['End Station Latitude'])\n",
    "df['start_lon_rad'] = np.radians(df['Start Station Longitude'])\n",
    "df['end_lon_rad'] = np.radians(df['End Station Longitude'])\n",
    "\n",
    "# Differences in coordinates\n",
    "df['delta_lat'] = df['end_lat_rad'] - df['start_lat_rad']\n",
    "df['delta_lon'] = df['end_lon_rad'] - df['start_lon_rad']\n",
    "\n",
    "# Haversine formula\n",
    "a = np.sin(df['delta_lat'] / 2)**2 + np.cos(df['start_lat_rad']) * np.cos(df['end_lat_rad']) * np.sin(df['delta_lon'] / 2)**2\n",
    "c = 2 * np.arctan2(np.sqrt(a), np.sqrt(1 - a))\n",
    "\n",
    "# Compute trip distance\n",
    "df['Trip Length (km)'] = R * c\n",
    "\n",
    "# Drop intermediate columns if needed\n",
    "df.drop(columns=['start_lat_rad', 'end_lat_rad', 'start_lon_rad', 'end_lon_rad', 'delta_lat', 'delta_lon'], inplace=True)\n",
    "\n",
    "print(df[['Start Station Latitude', 'End Station Latitude', 'Start Station Longitude', 'End Station Longitude', 'Trip Length (km)']])\n"
   ]
  },
  {
   "cell_type": "markdown",
   "id": "efb793de-a071-4360-a530-d29982d4b6cb",
   "metadata": {},
   "source": [
    "### Changing DataTypes and Naming the Index"
   ]
  },
  {
   "cell_type": "code",
   "execution_count": 19,
   "id": "1839ecff-f84f-427e-9084-f56a47ebaa67",
   "metadata": {},
   "outputs": [],
   "source": [
    "df['Trip Duration'] = pd.to_timedelta(df['Trip Duration'], unit='s')\n",
    "df['Start Time'] = pd.to_datetime(df['Start Time'])\n",
    "df['Stop Time'] = pd.to_datetime(df['Stop Time'])\n",
    "df.index.name = 'Trip ID'"
   ]
  },
  {
   "cell_type": "raw",
   "id": "0b02fad0-cb63-46a4-ace6-cd2c3b6cf35b",
   "metadata": {},
   "source": [
    "df.head()"
   ]
  },
  {
   "cell_type": "markdown",
   "id": "4cf9e933-7a4a-4eec-8e9f-a49da354fd59",
   "metadata": {},
   "source": [
    "### Multiple Imputation for Birth Year NaN"
   ]
  },
  {
   "cell_type": "code",
   "execution_count": 22,
   "id": "883deec4-0f84-4ee6-93b9-b22e6e19e863",
   "metadata": {},
   "outputs": [],
   "source": [
    "#Providing a test series for trialing the Imputation\n",
    "birth_year_test = {'X': [1975.0, 1985.0, 1976.0, 1974.0, 1974.0, np.nan, 1990.0, 1988.0, 1984.0, 1986.0]}"
   ]
  },
  {
   "cell_type": "code",
   "execution_count": 24,
   "id": "62c2b18c-8c84-4758-b9b2-3015feb5a81e",
   "metadata": {},
   "outputs": [],
   "source": [
    "#Creating the DataFrame for the test data\n",
    "df_test = pd.DataFrame(data = birth_year_test)"
   ]
  },
  {
   "cell_type": "code",
   "execution_count": 26,
   "id": "d43827dd-e0f3-4df8-8462-40c09ce19bb4",
   "metadata": {},
   "outputs": [],
   "source": [
    "#Setting up the imputer\n",
    "imp = IterativeImputer(max_iter=10, random_state=0)"
   ]
  },
  {
   "cell_type": "code",
   "execution_count": 28,
   "id": "5371450c-5853-4139-90d4-a459c7091036",
   "metadata": {},
   "outputs": [
    {
     "data": {
      "text/html": [
       "<style>#sk-container-id-1 {\n",
       "  /* Definition of color scheme common for light and dark mode */\n",
       "  --sklearn-color-text: black;\n",
       "  --sklearn-color-line: gray;\n",
       "  /* Definition of color scheme for unfitted estimators */\n",
       "  --sklearn-color-unfitted-level-0: #fff5e6;\n",
       "  --sklearn-color-unfitted-level-1: #f6e4d2;\n",
       "  --sklearn-color-unfitted-level-2: #ffe0b3;\n",
       "  --sklearn-color-unfitted-level-3: chocolate;\n",
       "  /* Definition of color scheme for fitted estimators */\n",
       "  --sklearn-color-fitted-level-0: #f0f8ff;\n",
       "  --sklearn-color-fitted-level-1: #d4ebff;\n",
       "  --sklearn-color-fitted-level-2: #b3dbfd;\n",
       "  --sklearn-color-fitted-level-3: cornflowerblue;\n",
       "\n",
       "  /* Specific color for light theme */\n",
       "  --sklearn-color-text-on-default-background: var(--sg-text-color, var(--theme-code-foreground, var(--jp-content-font-color1, black)));\n",
       "  --sklearn-color-background: var(--sg-background-color, var(--theme-background, var(--jp-layout-color0, white)));\n",
       "  --sklearn-color-border-box: var(--sg-text-color, var(--theme-code-foreground, var(--jp-content-font-color1, black)));\n",
       "  --sklearn-color-icon: #696969;\n",
       "\n",
       "  @media (prefers-color-scheme: dark) {\n",
       "    /* Redefinition of color scheme for dark theme */\n",
       "    --sklearn-color-text-on-default-background: var(--sg-text-color, var(--theme-code-foreground, var(--jp-content-font-color1, white)));\n",
       "    --sklearn-color-background: var(--sg-background-color, var(--theme-background, var(--jp-layout-color0, #111)));\n",
       "    --sklearn-color-border-box: var(--sg-text-color, var(--theme-code-foreground, var(--jp-content-font-color1, white)));\n",
       "    --sklearn-color-icon: #878787;\n",
       "  }\n",
       "}\n",
       "\n",
       "#sk-container-id-1 {\n",
       "  color: var(--sklearn-color-text);\n",
       "}\n",
       "\n",
       "#sk-container-id-1 pre {\n",
       "  padding: 0;\n",
       "}\n",
       "\n",
       "#sk-container-id-1 input.sk-hidden--visually {\n",
       "  border: 0;\n",
       "  clip: rect(1px 1px 1px 1px);\n",
       "  clip: rect(1px, 1px, 1px, 1px);\n",
       "  height: 1px;\n",
       "  margin: -1px;\n",
       "  overflow: hidden;\n",
       "  padding: 0;\n",
       "  position: absolute;\n",
       "  width: 1px;\n",
       "}\n",
       "\n",
       "#sk-container-id-1 div.sk-dashed-wrapped {\n",
       "  border: 1px dashed var(--sklearn-color-line);\n",
       "  margin: 0 0.4em 0.5em 0.4em;\n",
       "  box-sizing: border-box;\n",
       "  padding-bottom: 0.4em;\n",
       "  background-color: var(--sklearn-color-background);\n",
       "}\n",
       "\n",
       "#sk-container-id-1 div.sk-container {\n",
       "  /* jupyter's `normalize.less` sets `[hidden] { display: none; }`\n",
       "     but bootstrap.min.css set `[hidden] { display: none !important; }`\n",
       "     so we also need the `!important` here to be able to override the\n",
       "     default hidden behavior on the sphinx rendered scikit-learn.org.\n",
       "     See: https://github.com/scikit-learn/scikit-learn/issues/21755 */\n",
       "  display: inline-block !important;\n",
       "  position: relative;\n",
       "}\n",
       "\n",
       "#sk-container-id-1 div.sk-text-repr-fallback {\n",
       "  display: none;\n",
       "}\n",
       "\n",
       "div.sk-parallel-item,\n",
       "div.sk-serial,\n",
       "div.sk-item {\n",
       "  /* draw centered vertical line to link estimators */\n",
       "  background-image: linear-gradient(var(--sklearn-color-text-on-default-background), var(--sklearn-color-text-on-default-background));\n",
       "  background-size: 2px 100%;\n",
       "  background-repeat: no-repeat;\n",
       "  background-position: center center;\n",
       "}\n",
       "\n",
       "/* Parallel-specific style estimator block */\n",
       "\n",
       "#sk-container-id-1 div.sk-parallel-item::after {\n",
       "  content: \"\";\n",
       "  width: 100%;\n",
       "  border-bottom: 2px solid var(--sklearn-color-text-on-default-background);\n",
       "  flex-grow: 1;\n",
       "}\n",
       "\n",
       "#sk-container-id-1 div.sk-parallel {\n",
       "  display: flex;\n",
       "  align-items: stretch;\n",
       "  justify-content: center;\n",
       "  background-color: var(--sklearn-color-background);\n",
       "  position: relative;\n",
       "}\n",
       "\n",
       "#sk-container-id-1 div.sk-parallel-item {\n",
       "  display: flex;\n",
       "  flex-direction: column;\n",
       "}\n",
       "\n",
       "#sk-container-id-1 div.sk-parallel-item:first-child::after {\n",
       "  align-self: flex-end;\n",
       "  width: 50%;\n",
       "}\n",
       "\n",
       "#sk-container-id-1 div.sk-parallel-item:last-child::after {\n",
       "  align-self: flex-start;\n",
       "  width: 50%;\n",
       "}\n",
       "\n",
       "#sk-container-id-1 div.sk-parallel-item:only-child::after {\n",
       "  width: 0;\n",
       "}\n",
       "\n",
       "/* Serial-specific style estimator block */\n",
       "\n",
       "#sk-container-id-1 div.sk-serial {\n",
       "  display: flex;\n",
       "  flex-direction: column;\n",
       "  align-items: center;\n",
       "  background-color: var(--sklearn-color-background);\n",
       "  padding-right: 1em;\n",
       "  padding-left: 1em;\n",
       "}\n",
       "\n",
       "\n",
       "/* Toggleable style: style used for estimator/Pipeline/ColumnTransformer box that is\n",
       "clickable and can be expanded/collapsed.\n",
       "- Pipeline and ColumnTransformer use this feature and define the default style\n",
       "- Estimators will overwrite some part of the style using the `sk-estimator` class\n",
       "*/\n",
       "\n",
       "/* Pipeline and ColumnTransformer style (default) */\n",
       "\n",
       "#sk-container-id-1 div.sk-toggleable {\n",
       "  /* Default theme specific background. It is overwritten whether we have a\n",
       "  specific estimator or a Pipeline/ColumnTransformer */\n",
       "  background-color: var(--sklearn-color-background);\n",
       "}\n",
       "\n",
       "/* Toggleable label */\n",
       "#sk-container-id-1 label.sk-toggleable__label {\n",
       "  cursor: pointer;\n",
       "  display: block;\n",
       "  width: 100%;\n",
       "  margin-bottom: 0;\n",
       "  padding: 0.5em;\n",
       "  box-sizing: border-box;\n",
       "  text-align: center;\n",
       "}\n",
       "\n",
       "#sk-container-id-1 label.sk-toggleable__label-arrow:before {\n",
       "  /* Arrow on the left of the label */\n",
       "  content: \"▸\";\n",
       "  float: left;\n",
       "  margin-right: 0.25em;\n",
       "  color: var(--sklearn-color-icon);\n",
       "}\n",
       "\n",
       "#sk-container-id-1 label.sk-toggleable__label-arrow:hover:before {\n",
       "  color: var(--sklearn-color-text);\n",
       "}\n",
       "\n",
       "/* Toggleable content - dropdown */\n",
       "\n",
       "#sk-container-id-1 div.sk-toggleable__content {\n",
       "  max-height: 0;\n",
       "  max-width: 0;\n",
       "  overflow: hidden;\n",
       "  text-align: left;\n",
       "  /* unfitted */\n",
       "  background-color: var(--sklearn-color-unfitted-level-0);\n",
       "}\n",
       "\n",
       "#sk-container-id-1 div.sk-toggleable__content.fitted {\n",
       "  /* fitted */\n",
       "  background-color: var(--sklearn-color-fitted-level-0);\n",
       "}\n",
       "\n",
       "#sk-container-id-1 div.sk-toggleable__content pre {\n",
       "  margin: 0.2em;\n",
       "  border-radius: 0.25em;\n",
       "  color: var(--sklearn-color-text);\n",
       "  /* unfitted */\n",
       "  background-color: var(--sklearn-color-unfitted-level-0);\n",
       "}\n",
       "\n",
       "#sk-container-id-1 div.sk-toggleable__content.fitted pre {\n",
       "  /* unfitted */\n",
       "  background-color: var(--sklearn-color-fitted-level-0);\n",
       "}\n",
       "\n",
       "#sk-container-id-1 input.sk-toggleable__control:checked~div.sk-toggleable__content {\n",
       "  /* Expand drop-down */\n",
       "  max-height: 200px;\n",
       "  max-width: 100%;\n",
       "  overflow: auto;\n",
       "}\n",
       "\n",
       "#sk-container-id-1 input.sk-toggleable__control:checked~label.sk-toggleable__label-arrow:before {\n",
       "  content: \"▾\";\n",
       "}\n",
       "\n",
       "/* Pipeline/ColumnTransformer-specific style */\n",
       "\n",
       "#sk-container-id-1 div.sk-label input.sk-toggleable__control:checked~label.sk-toggleable__label {\n",
       "  color: var(--sklearn-color-text);\n",
       "  background-color: var(--sklearn-color-unfitted-level-2);\n",
       "}\n",
       "\n",
       "#sk-container-id-1 div.sk-label.fitted input.sk-toggleable__control:checked~label.sk-toggleable__label {\n",
       "  background-color: var(--sklearn-color-fitted-level-2);\n",
       "}\n",
       "\n",
       "/* Estimator-specific style */\n",
       "\n",
       "/* Colorize estimator box */\n",
       "#sk-container-id-1 div.sk-estimator input.sk-toggleable__control:checked~label.sk-toggleable__label {\n",
       "  /* unfitted */\n",
       "  background-color: var(--sklearn-color-unfitted-level-2);\n",
       "}\n",
       "\n",
       "#sk-container-id-1 div.sk-estimator.fitted input.sk-toggleable__control:checked~label.sk-toggleable__label {\n",
       "  /* fitted */\n",
       "  background-color: var(--sklearn-color-fitted-level-2);\n",
       "}\n",
       "\n",
       "#sk-container-id-1 div.sk-label label.sk-toggleable__label,\n",
       "#sk-container-id-1 div.sk-label label {\n",
       "  /* The background is the default theme color */\n",
       "  color: var(--sklearn-color-text-on-default-background);\n",
       "}\n",
       "\n",
       "/* On hover, darken the color of the background */\n",
       "#sk-container-id-1 div.sk-label:hover label.sk-toggleable__label {\n",
       "  color: var(--sklearn-color-text);\n",
       "  background-color: var(--sklearn-color-unfitted-level-2);\n",
       "}\n",
       "\n",
       "/* Label box, darken color on hover, fitted */\n",
       "#sk-container-id-1 div.sk-label.fitted:hover label.sk-toggleable__label.fitted {\n",
       "  color: var(--sklearn-color-text);\n",
       "  background-color: var(--sklearn-color-fitted-level-2);\n",
       "}\n",
       "\n",
       "/* Estimator label */\n",
       "\n",
       "#sk-container-id-1 div.sk-label label {\n",
       "  font-family: monospace;\n",
       "  font-weight: bold;\n",
       "  display: inline-block;\n",
       "  line-height: 1.2em;\n",
       "}\n",
       "\n",
       "#sk-container-id-1 div.sk-label-container {\n",
       "  text-align: center;\n",
       "}\n",
       "\n",
       "/* Estimator-specific */\n",
       "#sk-container-id-1 div.sk-estimator {\n",
       "  font-family: monospace;\n",
       "  border: 1px dotted var(--sklearn-color-border-box);\n",
       "  border-radius: 0.25em;\n",
       "  box-sizing: border-box;\n",
       "  margin-bottom: 0.5em;\n",
       "  /* unfitted */\n",
       "  background-color: var(--sklearn-color-unfitted-level-0);\n",
       "}\n",
       "\n",
       "#sk-container-id-1 div.sk-estimator.fitted {\n",
       "  /* fitted */\n",
       "  background-color: var(--sklearn-color-fitted-level-0);\n",
       "}\n",
       "\n",
       "/* on hover */\n",
       "#sk-container-id-1 div.sk-estimator:hover {\n",
       "  /* unfitted */\n",
       "  background-color: var(--sklearn-color-unfitted-level-2);\n",
       "}\n",
       "\n",
       "#sk-container-id-1 div.sk-estimator.fitted:hover {\n",
       "  /* fitted */\n",
       "  background-color: var(--sklearn-color-fitted-level-2);\n",
       "}\n",
       "\n",
       "/* Specification for estimator info (e.g. \"i\" and \"?\") */\n",
       "\n",
       "/* Common style for \"i\" and \"?\" */\n",
       "\n",
       ".sk-estimator-doc-link,\n",
       "a:link.sk-estimator-doc-link,\n",
       "a:visited.sk-estimator-doc-link {\n",
       "  float: right;\n",
       "  font-size: smaller;\n",
       "  line-height: 1em;\n",
       "  font-family: monospace;\n",
       "  background-color: var(--sklearn-color-background);\n",
       "  border-radius: 1em;\n",
       "  height: 1em;\n",
       "  width: 1em;\n",
       "  text-decoration: none !important;\n",
       "  margin-left: 1ex;\n",
       "  /* unfitted */\n",
       "  border: var(--sklearn-color-unfitted-level-1) 1pt solid;\n",
       "  color: var(--sklearn-color-unfitted-level-1);\n",
       "}\n",
       "\n",
       ".sk-estimator-doc-link.fitted,\n",
       "a:link.sk-estimator-doc-link.fitted,\n",
       "a:visited.sk-estimator-doc-link.fitted {\n",
       "  /* fitted */\n",
       "  border: var(--sklearn-color-fitted-level-1) 1pt solid;\n",
       "  color: var(--sklearn-color-fitted-level-1);\n",
       "}\n",
       "\n",
       "/* On hover */\n",
       "div.sk-estimator:hover .sk-estimator-doc-link:hover,\n",
       ".sk-estimator-doc-link:hover,\n",
       "div.sk-label-container:hover .sk-estimator-doc-link:hover,\n",
       ".sk-estimator-doc-link:hover {\n",
       "  /* unfitted */\n",
       "  background-color: var(--sklearn-color-unfitted-level-3);\n",
       "  color: var(--sklearn-color-background);\n",
       "  text-decoration: none;\n",
       "}\n",
       "\n",
       "div.sk-estimator.fitted:hover .sk-estimator-doc-link.fitted:hover,\n",
       ".sk-estimator-doc-link.fitted:hover,\n",
       "div.sk-label-container:hover .sk-estimator-doc-link.fitted:hover,\n",
       ".sk-estimator-doc-link.fitted:hover {\n",
       "  /* fitted */\n",
       "  background-color: var(--sklearn-color-fitted-level-3);\n",
       "  color: var(--sklearn-color-background);\n",
       "  text-decoration: none;\n",
       "}\n",
       "\n",
       "/* Span, style for the box shown on hovering the info icon */\n",
       ".sk-estimator-doc-link span {\n",
       "  display: none;\n",
       "  z-index: 9999;\n",
       "  position: relative;\n",
       "  font-weight: normal;\n",
       "  right: .2ex;\n",
       "  padding: .5ex;\n",
       "  margin: .5ex;\n",
       "  width: min-content;\n",
       "  min-width: 20ex;\n",
       "  max-width: 50ex;\n",
       "  color: var(--sklearn-color-text);\n",
       "  box-shadow: 2pt 2pt 4pt #999;\n",
       "  /* unfitted */\n",
       "  background: var(--sklearn-color-unfitted-level-0);\n",
       "  border: .5pt solid var(--sklearn-color-unfitted-level-3);\n",
       "}\n",
       "\n",
       ".sk-estimator-doc-link.fitted span {\n",
       "  /* fitted */\n",
       "  background: var(--sklearn-color-fitted-level-0);\n",
       "  border: var(--sklearn-color-fitted-level-3);\n",
       "}\n",
       "\n",
       ".sk-estimator-doc-link:hover span {\n",
       "  display: block;\n",
       "}\n",
       "\n",
       "/* \"?\"-specific style due to the `<a>` HTML tag */\n",
       "\n",
       "#sk-container-id-1 a.estimator_doc_link {\n",
       "  float: right;\n",
       "  font-size: 1rem;\n",
       "  line-height: 1em;\n",
       "  font-family: monospace;\n",
       "  background-color: var(--sklearn-color-background);\n",
       "  border-radius: 1rem;\n",
       "  height: 1rem;\n",
       "  width: 1rem;\n",
       "  text-decoration: none;\n",
       "  /* unfitted */\n",
       "  color: var(--sklearn-color-unfitted-level-1);\n",
       "  border: var(--sklearn-color-unfitted-level-1) 1pt solid;\n",
       "}\n",
       "\n",
       "#sk-container-id-1 a.estimator_doc_link.fitted {\n",
       "  /* fitted */\n",
       "  border: var(--sklearn-color-fitted-level-1) 1pt solid;\n",
       "  color: var(--sklearn-color-fitted-level-1);\n",
       "}\n",
       "\n",
       "/* On hover */\n",
       "#sk-container-id-1 a.estimator_doc_link:hover {\n",
       "  /* unfitted */\n",
       "  background-color: var(--sklearn-color-unfitted-level-3);\n",
       "  color: var(--sklearn-color-background);\n",
       "  text-decoration: none;\n",
       "}\n",
       "\n",
       "#sk-container-id-1 a.estimator_doc_link.fitted:hover {\n",
       "  /* fitted */\n",
       "  background-color: var(--sklearn-color-fitted-level-3);\n",
       "}\n",
       "</style><div id=\"sk-container-id-1\" class=\"sk-top-container\"><div class=\"sk-text-repr-fallback\"><pre>IterativeImputer(random_state=0)</pre><b>In a Jupyter environment, please rerun this cell to show the HTML representation or trust the notebook. <br />On GitHub, the HTML representation is unable to render, please try loading this page with nbviewer.org.</b></div><div class=\"sk-container\" hidden><div class=\"sk-item\"><div class=\"sk-estimator fitted sk-toggleable\"><input class=\"sk-toggleable__control sk-hidden--visually\" id=\"sk-estimator-id-1\" type=\"checkbox\" checked><label for=\"sk-estimator-id-1\" class=\"sk-toggleable__label fitted sk-toggleable__label-arrow fitted\">&nbsp;&nbsp;IterativeImputer<a class=\"sk-estimator-doc-link fitted\" rel=\"noreferrer\" target=\"_blank\" href=\"https://scikit-learn.org/1.5/modules/generated/sklearn.impute.IterativeImputer.html\">?<span>Documentation for IterativeImputer</span></a><span class=\"sk-estimator-doc-link fitted\">i<span>Fitted</span></span></label><div class=\"sk-toggleable__content fitted\"><pre>IterativeImputer(random_state=0)</pre></div> </div></div></div></div>"
      ],
      "text/plain": [
       "IterativeImputer(random_state=0)"
      ]
     },
     "execution_count": 28,
     "metadata": {},
     "output_type": "execute_result"
    }
   ],
   "source": [
    "imp.fit(df_test)"
   ]
  },
  {
   "cell_type": "code",
   "execution_count": 30,
   "id": "285200b9-9bcd-461c-911e-b1c74f4afc33",
   "metadata": {},
   "outputs": [],
   "source": [
    "# Applying Imputation to DataFrame\n",
    "df['Birth Year'] = np.round(imp.fit_transform(df[['Birth Year']]), 1)"
   ]
  },
  {
   "cell_type": "code",
   "execution_count": 32,
   "id": "1178a8a5-f4ef-4f20-acea-b7d43d9c03b6",
   "metadata": {},
   "outputs": [],
   "source": [
    "# New Column 'Age'\n",
    "df['Age'] = 2016 - df['Birth Year']"
   ]
  },
  {
   "cell_type": "raw",
   "id": "e30a4b45-3f91-451f-a550-38f5bddd9418",
   "metadata": {},
   "source": [
    "df.info()"
   ]
  },
  {
   "cell_type": "markdown",
   "id": "5046770d-7ac7-422c-9a0e-91d3be195c37",
   "metadata": {},
   "source": [
    "### Addressing NaN User Types"
   ]
  },
  {
   "cell_type": "code",
   "execution_count": 35,
   "id": "bc9a4bd9-ffc1-4574-a843-0a91d22e03fe",
   "metadata": {},
   "outputs": [
    {
     "data": {
      "text/plain": [
       "array(['Subscriber', 'Customer', nan], dtype=object)"
      ]
     },
     "execution_count": 35,
     "metadata": {},
     "output_type": "execute_result"
    }
   ],
   "source": [
    "user_type = df['User Type'].unique()\n",
    "user_type"
   ]
  },
  {
   "cell_type": "code",
   "execution_count": 37,
   "id": "f72b83cc-6b87-4a44-944d-6dcca12b1b54",
   "metadata": {},
   "outputs": [],
   "source": [
    "df = df.dropna()"
   ]
  },
  {
   "cell_type": "raw",
   "id": "4f2a0fe6-9044-49be-9ea4-e28fbfa1b85b",
   "metadata": {},
   "source": [
    "df.info()"
   ]
  },
  {
   "cell_type": "markdown",
   "id": "829e53b6-0f2d-41a3-b084-54b72166f22f",
   "metadata": {},
   "source": [
    "### Read in and inspect the weather csv"
   ]
  },
  {
   "cell_type": "code",
   "execution_count": 40,
   "id": "90f6418a-f1d2-4df5-809e-7e7fb723d43e",
   "metadata": {},
   "outputs": [
    {
     "data": {
      "text/html": [
       "<div>\n",
       "<style scoped>\n",
       "    .dataframe tbody tr th:only-of-type {\n",
       "        vertical-align: middle;\n",
       "    }\n",
       "\n",
       "    .dataframe tbody tr th {\n",
       "        vertical-align: top;\n",
       "    }\n",
       "\n",
       "    .dataframe thead th {\n",
       "        text-align: right;\n",
       "    }\n",
       "</style>\n",
       "<table border=\"1\" class=\"dataframe\">\n",
       "  <thead>\n",
       "    <tr style=\"text-align: right;\">\n",
       "      <th></th>\n",
       "      <th>STATION</th>\n",
       "      <th>NAME</th>\n",
       "      <th>DATE</th>\n",
       "      <th>AWND</th>\n",
       "      <th>PGTM</th>\n",
       "      <th>PRCP</th>\n",
       "      <th>SNOW</th>\n",
       "      <th>SNWD</th>\n",
       "      <th>TAVG</th>\n",
       "      <th>TMAX</th>\n",
       "      <th>TMIN</th>\n",
       "      <th>TSUN</th>\n",
       "      <th>WDF2</th>\n",
       "      <th>WDF5</th>\n",
       "      <th>WSF2</th>\n",
       "      <th>WSF5</th>\n",
       "    </tr>\n",
       "  </thead>\n",
       "  <tbody>\n",
       "    <tr>\n",
       "      <th>0</th>\n",
       "      <td>USW00014734</td>\n",
       "      <td>NEWARK LIBERTY INTERNATIONAL AIRPORT, NJ US</td>\n",
       "      <td>2016-01-01</td>\n",
       "      <td>12.75</td>\n",
       "      <td>NaN</td>\n",
       "      <td>0.0</td>\n",
       "      <td>0.0</td>\n",
       "      <td>0.0</td>\n",
       "      <td>41</td>\n",
       "      <td>43</td>\n",
       "      <td>34</td>\n",
       "      <td>NaN</td>\n",
       "      <td>270</td>\n",
       "      <td>280.0</td>\n",
       "      <td>25.9</td>\n",
       "      <td>35.1</td>\n",
       "    </tr>\n",
       "    <tr>\n",
       "      <th>1</th>\n",
       "      <td>USW00014734</td>\n",
       "      <td>NEWARK LIBERTY INTERNATIONAL AIRPORT, NJ US</td>\n",
       "      <td>2016-01-02</td>\n",
       "      <td>9.40</td>\n",
       "      <td>NaN</td>\n",
       "      <td>0.0</td>\n",
       "      <td>0.0</td>\n",
       "      <td>0.0</td>\n",
       "      <td>36</td>\n",
       "      <td>42</td>\n",
       "      <td>30</td>\n",
       "      <td>NaN</td>\n",
       "      <td>260</td>\n",
       "      <td>260.0</td>\n",
       "      <td>21.0</td>\n",
       "      <td>25.1</td>\n",
       "    </tr>\n",
       "    <tr>\n",
       "      <th>2</th>\n",
       "      <td>USW00014734</td>\n",
       "      <td>NEWARK LIBERTY INTERNATIONAL AIRPORT, NJ US</td>\n",
       "      <td>2016-01-03</td>\n",
       "      <td>10.29</td>\n",
       "      <td>NaN</td>\n",
       "      <td>0.0</td>\n",
       "      <td>0.0</td>\n",
       "      <td>0.0</td>\n",
       "      <td>37</td>\n",
       "      <td>47</td>\n",
       "      <td>28</td>\n",
       "      <td>NaN</td>\n",
       "      <td>270</td>\n",
       "      <td>250.0</td>\n",
       "      <td>23.9</td>\n",
       "      <td>30.0</td>\n",
       "    </tr>\n",
       "    <tr>\n",
       "      <th>3</th>\n",
       "      <td>USW00014734</td>\n",
       "      <td>NEWARK LIBERTY INTERNATIONAL AIRPORT, NJ US</td>\n",
       "      <td>2016-01-04</td>\n",
       "      <td>17.22</td>\n",
       "      <td>NaN</td>\n",
       "      <td>0.0</td>\n",
       "      <td>0.0</td>\n",
       "      <td>0.0</td>\n",
       "      <td>32</td>\n",
       "      <td>35</td>\n",
       "      <td>14</td>\n",
       "      <td>NaN</td>\n",
       "      <td>330</td>\n",
       "      <td>330.0</td>\n",
       "      <td>25.9</td>\n",
       "      <td>33.1</td>\n",
       "    </tr>\n",
       "    <tr>\n",
       "      <th>4</th>\n",
       "      <td>USW00014734</td>\n",
       "      <td>NEWARK LIBERTY INTERNATIONAL AIRPORT, NJ US</td>\n",
       "      <td>2016-01-05</td>\n",
       "      <td>9.84</td>\n",
       "      <td>NaN</td>\n",
       "      <td>0.0</td>\n",
       "      <td>0.0</td>\n",
       "      <td>0.0</td>\n",
       "      <td>19</td>\n",
       "      <td>31</td>\n",
       "      <td>10</td>\n",
       "      <td>NaN</td>\n",
       "      <td>360</td>\n",
       "      <td>350.0</td>\n",
       "      <td>25.1</td>\n",
       "      <td>31.1</td>\n",
       "    </tr>\n",
       "  </tbody>\n",
       "</table>\n",
       "</div>"
      ],
      "text/plain": [
       "       STATION                                         NAME        DATE  \\\n",
       "0  USW00014734  NEWARK LIBERTY INTERNATIONAL AIRPORT, NJ US  2016-01-01   \n",
       "1  USW00014734  NEWARK LIBERTY INTERNATIONAL AIRPORT, NJ US  2016-01-02   \n",
       "2  USW00014734  NEWARK LIBERTY INTERNATIONAL AIRPORT, NJ US  2016-01-03   \n",
       "3  USW00014734  NEWARK LIBERTY INTERNATIONAL AIRPORT, NJ US  2016-01-04   \n",
       "4  USW00014734  NEWARK LIBERTY INTERNATIONAL AIRPORT, NJ US  2016-01-05   \n",
       "\n",
       "    AWND  PGTM  PRCP  SNOW  SNWD  TAVG  TMAX  TMIN  TSUN  WDF2   WDF5  WSF2  \\\n",
       "0  12.75   NaN   0.0   0.0   0.0    41    43    34   NaN   270  280.0  25.9   \n",
       "1   9.40   NaN   0.0   0.0   0.0    36    42    30   NaN   260  260.0  21.0   \n",
       "2  10.29   NaN   0.0   0.0   0.0    37    47    28   NaN   270  250.0  23.9   \n",
       "3  17.22   NaN   0.0   0.0   0.0    32    35    14   NaN   330  330.0  25.9   \n",
       "4   9.84   NaN   0.0   0.0   0.0    19    31    10   NaN   360  350.0  25.1   \n",
       "\n",
       "   WSF5  \n",
       "0  35.1  \n",
       "1  25.1  \n",
       "2  30.0  \n",
       "3  33.1  \n",
       "4  31.1  "
      ]
     },
     "execution_count": 40,
     "metadata": {},
     "output_type": "execute_result"
    }
   ],
   "source": [
    "nw = pd.read_csv('data/newark_airport_2016.csv')\n",
    "nw.head()"
   ]
  },
  {
   "cell_type": "raw",
   "id": "2bdef5a0-2bf7-4b0c-bc99-0e77d3c06eff",
   "metadata": {},
   "source": [
    "nw.info()"
   ]
  },
  {
   "cell_type": "markdown",
   "id": "103020d5-358a-43cf-bdaa-65f24b6a6c9d",
   "metadata": {},
   "source": [
    "### Cleaning the weather frame"
   ]
  },
  {
   "cell_type": "code",
   "execution_count": 43,
   "id": "d0c6e854-b2d8-44a7-9559-05a5cf700d62",
   "metadata": {},
   "outputs": [],
   "source": [
    "# Don't need the completely empty columns\n",
    "nw.drop(['PGTM', 'TSUN'], axis=1, inplace=True)"
   ]
  },
  {
   "cell_type": "code",
   "execution_count": 45,
   "id": "8af357a5-14b1-4bb4-ad04-e2843e6f569b",
   "metadata": {},
   "outputs": [],
   "source": [
    "# Changing the data types\n",
    "nw['DATE'] = pd.to_datetime(nw['DATE'])"
   ]
  },
  {
   "cell_type": "raw",
   "id": "a01d2309-180f-4d6e-9ebd-63937725c508",
   "metadata": {},
   "source": [
    "nw.info()"
   ]
  },
  {
   "cell_type": "code",
   "execution_count": 47,
   "id": "43f79e84-24c5-48b2-851f-69dc01a529a0",
   "metadata": {},
   "outputs": [],
   "source": [
    "#Drop a few incomplete rows\n",
    "nw = nw.dropna()"
   ]
  },
  {
   "cell_type": "markdown",
   "id": "3e47d575-8498-4044-9c54-83c937d6ab34",
   "metadata": {},
   "source": [
    "### Setting Up SQL DB"
   ]
  },
  {
   "cell_type": "raw",
   "id": "1e25ac5e-c025-40d7-ac4b-00a715ab5e09",
   "metadata": {},
   "source": [
    "import ipython-sql\n",
    "import sqlalchemy\n",
    "import install psycopg2"
   ]
  },
  {
   "cell_type": "markdown",
   "id": "09cabcfe-a3ea-4d7e-8214-01b71a420139",
   "metadata": {},
   "source": [
    "Questions to answer: \n",
    "* Time on the bike: Max, Min, Average, Distribution\n",
    "* Distance on the bike: Max, Min, Average, Distribution Difference between Start Latitude/longitude and End Latitude/longitude\n",
    "* Temps: Max, Min, Average, Distribution\n",
    "\n",
    "* Count of trips by gender\n",
    "* Length of trip by gender\n",
    "* Count of trips by age\n",
    "* Length of trip by age\n",
    "* Avg temp to avg bike trip\n",
    "* Count of trips in a temp range (with gender, with age)\n",
    "* Count of trips with snow (with gender, with age)\n",
    "* Count of trips with wind (with gender, with age)\n",
    "* Count of trips with sun (with gender, with age)\n",
    "* Avg time of trips in a temp range\n",
    "* Count of trips started in each temp range\n",
    "* Length of trips with snow\n",
    "* Length of trips with wind speed > avg wind speed\n",
    "* Length of trips with wind speed < avg wind speed\n",
    "* Length of trips with sun\n",
    "* When do non-subscribers use bikes the most? At any certain station?\n",
    "\n",
    "Columns: \n",
    "df\n",
    "Trip Duration\n",
    "Start Station Latitude\n",
    "Start Station Longitude\n",
    "End Station Latitude\n",
    "End Station Longitude\n",
    "Gender\n",
    "Birth Year\n",
    "NEW COLUMN: Trip Length\n",
    "\n",
    "nw \n",
    "TAVG\n",
    "TMAX\n",
    "TMIN\n",
    "SNWD\n",
    "AWND\n"
   ]
  },
  {
   "cell_type": "raw",
   "id": "89834eb9-6fef-4e3e-8ccc-1a15ec76f03f",
   "metadata": {},
   "source": [
    "!pip install psycopg2-binary sqlalchemy pandas"
   ]
  },
  {
   "cell_type": "code",
   "execution_count": 51,
   "id": "b4691567-f4ef-496d-8740-95e81bf025cb",
   "metadata": {},
   "outputs": [],
   "source": [
    "from sqlalchemy import create_engine\n",
    "from psycopg2.extras import execute_values\n",
    "import psycopg2"
   ]
  },
  {
   "cell_type": "code",
   "execution_count": 53,
   "id": "b9136c6e-041d-45be-a189-9cf3a36e7977",
   "metadata": {},
   "outputs": [],
   "source": [
    "DB_USER = 'lydiakonstanski'\n",
    "DB_PASSWORD = 'Celeste'\n",
    "DB_HOST = 'localhost'\n",
    "DB_PORT = '5432'\n",
    "DB_NAME = \"Citibike_db\"\n",
    "\n",
    "# Create the database engine\n",
    "engine = create_engine(f'postgresql+psycopg2://{DB_USER}:{DB_PASSWORD}@{DB_HOST}:{DB_PORT}/{DB_NAME}')\n",
    "\n",
    "# Connect to PostgreSQL\n",
    "conn = psycopg2.connect(\n",
    "    dbname=DB_NAME, user=DB_USER, password=DB_PASSWORD, host=DB_HOST, port=DB_PORT\n",
    ")\n",
    "cur = conn.cursor()"
   ]
  },
  {
   "cell_type": "markdown",
   "id": "ef42aca2-4e40-45b3-b86a-67c93a99bb81",
   "metadata": {},
   "source": [
    "### Filling DataBase established on Postbird"
   ]
  },
  {
   "cell_type": "code",
   "execution_count": 56,
   "id": "4b481ceb-336b-437b-9805-70264dc4e869",
   "metadata": {},
   "outputs": [],
   "source": [
    "# BIKES\n",
    "# Convert 'Bike ID' column to a list of tuples (required format for single column execute_values)\n",
    "bike_tuples = [(int(row),) for row in df['Bike ID'].unique()]\n",
    "\n",
    "# Define the INSERT query\n",
    "insert_bikes = \"INSERT INTO bikes (id) VALUES %s\"\n",
    "\n",
    "# Use execute_values for bulk insert (efficient for large data)\n",
    "execute_values(cur, insert_bikes, bike_tuples)"
   ]
  },
  {
   "cell_type": "raw",
   "id": "4768a0ba-9b61-4a57-a04a-5be78d2bb73b",
   "metadata": {},
   "source": [
    "#USERS\n",
    "## Columns to a list of tuples (required format for executing multiple column values)\n",
    "user_tuples = [tuple(row) for row in df[['Birth Year', 'Age', 'Gender', 'User Type', 'Bike ID']].dropna().to_numpy()]\n",
    "user_insert = 'INSERT INTO users (age, gender, user_type, birth_year) VALUES %s'\n",
    "execute_values(cur, user_insert, user_tuples)"
   ]
  },
  {
   "cell_type": "code",
   "execution_count": 64,
   "id": "64d72455-6ebc-42b9-ba7c-533862b1a58e",
   "metadata": {},
   "outputs": [],
   "source": [
    "unique_stations = df['End Station ID'].unique()"
   ]
  },
  {
   "cell_type": "code",
   "execution_count": 66,
   "id": "64752002-d452-4240-b415-08906d1136b1",
   "metadata": {},
   "outputs": [],
   "source": [
    "df['unique_stations'] = pd.DataFrame(unique_stations)"
   ]
  },
  {
   "cell_type": "code",
   "execution_count": 68,
   "id": "eb6675e6-f8a9-4caf-9069-072dce6cc658",
   "metadata": {},
   "outputs": [
    {
     "ename": "InFailedSqlTransaction",
     "evalue": "current transaction is aborted, commands ignored until end of transaction block\n",
     "output_type": "error",
     "traceback": [
      "\u001b[0;31m---------------------------------------------------------------------------\u001b[0m",
      "\u001b[0;31mInFailedSqlTransaction\u001b[0m                    Traceback (most recent call last)",
      "Cell \u001b[0;32mIn[68], line 4\u001b[0m\n\u001b[1;32m      2\u001b[0m locations_tuples \u001b[38;5;241m=\u001b[39m [\u001b[38;5;28mtuple\u001b[39m(row) \u001b[38;5;28;01mfor\u001b[39;00m row \u001b[38;5;129;01min\u001b[39;00m df[[\u001b[38;5;124m'\u001b[39m\u001b[38;5;124mEnd Station ID\u001b[39m\u001b[38;5;124m'\u001b[39m, \u001b[38;5;124m'\u001b[39m\u001b[38;5;124munique_stations\u001b[39m\u001b[38;5;124m'\u001b[39m, \u001b[38;5;124m'\u001b[39m\u001b[38;5;124mEnd Station Latitude\u001b[39m\u001b[38;5;124m'\u001b[39m, \u001b[38;5;124m'\u001b[39m\u001b[38;5;124mEnd Station Longitude\u001b[39m\u001b[38;5;124m'\u001b[39m]]\u001b[38;5;241m.\u001b[39mdropna()\u001b[38;5;241m.\u001b[39mto_numpy()]\n\u001b[1;32m      3\u001b[0m locations_insert \u001b[38;5;241m=\u001b[39m \u001b[38;5;124m'\u001b[39m\u001b[38;5;124mINSERT INTO locations (id, station_name, latitude, longitude) VALUES \u001b[39m\u001b[38;5;132;01m%s\u001b[39;00m\u001b[38;5;124m'\u001b[39m\n\u001b[0;32m----> 4\u001b[0m execute_values(cur, locations_insert, locations_tuples)\n",
      "File \u001b[0;32m/opt/anaconda3/lib/python3.12/site-packages/psycopg2/extras.py:1299\u001b[0m, in \u001b[0;36mexecute_values\u001b[0;34m(cur, sql, argslist, template, page_size, fetch)\u001b[0m\n\u001b[1;32m   1297\u001b[0m     parts\u001b[38;5;241m.\u001b[39mappend(\u001b[38;5;124mb\u001b[39m\u001b[38;5;124m'\u001b[39m\u001b[38;5;124m,\u001b[39m\u001b[38;5;124m'\u001b[39m)\n\u001b[1;32m   1298\u001b[0m parts[\u001b[38;5;241m-\u001b[39m\u001b[38;5;241m1\u001b[39m:] \u001b[38;5;241m=\u001b[39m post\n\u001b[0;32m-> 1299\u001b[0m cur\u001b[38;5;241m.\u001b[39mexecute(\u001b[38;5;124mb\u001b[39m\u001b[38;5;124m'\u001b[39m\u001b[38;5;124m'\u001b[39m\u001b[38;5;241m.\u001b[39mjoin(parts))\n\u001b[1;32m   1300\u001b[0m \u001b[38;5;28;01mif\u001b[39;00m fetch:\n\u001b[1;32m   1301\u001b[0m     result\u001b[38;5;241m.\u001b[39mextend(cur\u001b[38;5;241m.\u001b[39mfetchall())\n",
      "\u001b[0;31mInFailedSqlTransaction\u001b[0m: current transaction is aborted, commands ignored until end of transaction block\n"
     ]
    }
   ],
   "source": [
    "#LOCATIONS\n",
    "locations_tuples = [tuple(row) for row in df[['End Station ID', 'unique_stations', 'End Station Latitude', 'End Station Longitude']].dropna().to_numpy()]\n",
    "locations_insert = 'INSERT INTO locations (id, station_name, latitude, longitude) VALUES %s'\n",
    "execute_values(cur, locations_insert, locations_tuples)"
   ]
  },
  {
   "cell_type": "code",
   "execution_count": null,
   "id": "9398c6d9-3e20-48ba-bfd8-310d3af623f0",
   "metadata": {},
   "outputs": [],
   "source": [
    "#WEATHER \n",
    "weather_tuples =[tuple(row) for row in nw[['DATE', 'TAVG', 'TMIN', 'TMAX', 'PRCP', 'SNWD', 'AWND']].dropna().to_numpy()]\n",
    "weather_insert = 'INSERT INTO weather (date, temp_avg, temp_min, temp_max, precipitation, snow_depth, avg_wind) VALUES %s'\n",
    "execute_values(cur, weather_insert, weather_tuples)"
   ]
  },
  {
   "cell_type": "code",
   "execution_count": null,
   "id": "8874ad2d-4b33-4786-9267-c141c509efa2",
   "metadata": {},
   "outputs": [],
   "source": [
    "#TRIPS\n",
    "trips_tuples = [tuple(row) for row in df[['Start Time', 'Bike ID', 'Start Station ID', 'End Station ID', 'Start Time', 'Stop Time', 'Trip Duration', 'Trip Length (km)' ]].dropna().to_numpy()]\n",
    "trips_insert = 'INSERT INTO trips (date, bike_id, start_location, end_location, start_time, end_time, trip_duration, trip_distance) VALUES %s'\n",
    "execute_values(cur, trips_insert, trips_tuples)"
   ]
  },
  {
   "cell_type": "code",
   "execution_count": null,
   "id": "8ddfe894-e2bb-4560-9239-acc29186998d",
   "metadata": {},
   "outputs": [],
   "source": [
    "# Commit and close\n",
    "conn.commit()\n",
    "cur.close()\n",
    "conn.close()"
   ]
  },
  {
   "cell_type": "code",
   "execution_count": null,
   "id": "372dd147-2a4d-4790-b0a3-a1c82c3987c9",
   "metadata": {},
   "outputs": [],
   "source": []
  }
 ],
 "metadata": {
  "kernelspec": {
   "display_name": "Python [conda env:base] *",
   "language": "python",
   "name": "conda-base-py"
  },
  "language_info": {
   "codemirror_mode": {
    "name": "ipython",
    "version": 3
   },
   "file_extension": ".py",
   "mimetype": "text/x-python",
   "name": "python",
   "nbconvert_exporter": "python",
   "pygments_lexer": "ipython3",
   "version": "3.12.2"
  }
 },
 "nbformat": 4,
 "nbformat_minor": 5
}
