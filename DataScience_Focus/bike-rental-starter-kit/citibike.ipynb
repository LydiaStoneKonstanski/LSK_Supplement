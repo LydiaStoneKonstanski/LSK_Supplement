{
 "cells": [
  {
   "cell_type": "code",
   "execution_count": 1,
   "id": "3cad1476-b3b5-4eef-960a-884e652ff09f",
   "metadata": {},
   "outputs": [],
   "source": [
    "import pandas as pd\n",
    "import numpy as np\n",
    "import matplotlib as plt\n",
    "import glob\n",
    "from sklearn.experimental import enable_iterative_imputer\n",
    "from sklearn.impute import IterativeImputer\n",
    "import datetime\n",
    "from sqlalchemy import create_engine\n",
    "from psycopg2.extras import execute_values\n",
    "import psycopg2\n",
    "import sqlalchemy\n",
    "%load_ext sql"
   ]
  },
  {
   "cell_type": "markdown",
   "id": "bb335446-ec84-4319-a4ee-fa4d7bc74e47",
   "metadata": {},
   "source": [
    "## Inspection"
   ]
  },
  {
   "cell_type": "markdown",
   "id": "26960d37-6744-456d-a9eb-d4e4d0bb43c0",
   "metadata": {},
   "source": [
    "### Iterate through CSVs, Concat Files, and Create DataFrame:"
   ]
  },
  {
   "cell_type": "code",
   "execution_count": 5,
   "id": "3b83048c-55ad-41b8-a3c3-6dea9bfc43b1",
   "metadata": {},
   "outputs": [],
   "source": [
    "files = glob.glob('data/JC-2016*-citibike-tripdata.csv')\n",
    "df_list = []\n",
    "for filename in files: \n",
    "    data = pd.read_csv(filename)\n",
    "    df_list.append(data)\n",
    "df = pd.concat(df_list)    "
   ]
  },
  {
   "cell_type": "markdown",
   "id": "9ba2847e-305e-4a7e-a12d-8ac171c2a4d6",
   "metadata": {},
   "source": [
    "### Inspect the DataFrame:"
   ]
  },
  {
   "cell_type": "markdown",
   "id": "157e14cb-7d70-476c-a795-2847b360bee7",
   "metadata": {},
   "source": [
    "Columns: Index, Trip Duration, Start Time, Stop Time, Start Station ID, Start Station Name, Start Station Latitude, Start Station Longitude\n",
    "End Station ID, End Station Name, End Station Latitude, End Station Longitude, Bike ID, User Type, Birth Year, Gender"
   ]
  },
  {
   "cell_type": "code",
   "execution_count": 9,
   "id": "8c232ba6-6d90-48f9-a55d-9c034544cb7e",
   "metadata": {
    "scrolled": true
   },
   "outputs": [
    {
     "data": {
      "text/html": [
       "<div>\n",
       "<style scoped>\n",
       "    .dataframe tbody tr th:only-of-type {\n",
       "        vertical-align: middle;\n",
       "    }\n",
       "\n",
       "    .dataframe tbody tr th {\n",
       "        vertical-align: top;\n",
       "    }\n",
       "\n",
       "    .dataframe thead th {\n",
       "        text-align: right;\n",
       "    }\n",
       "</style>\n",
       "<table border=\"1\" class=\"dataframe\">\n",
       "  <thead>\n",
       "    <tr style=\"text-align: right;\">\n",
       "      <th></th>\n",
       "      <th>Trip Duration</th>\n",
       "      <th>Start Time</th>\n",
       "      <th>Stop Time</th>\n",
       "      <th>Start Station ID</th>\n",
       "      <th>Start Station Name</th>\n",
       "      <th>Start Station Latitude</th>\n",
       "      <th>Start Station Longitude</th>\n",
       "      <th>End Station ID</th>\n",
       "      <th>End Station Name</th>\n",
       "      <th>End Station Latitude</th>\n",
       "      <th>End Station Longitude</th>\n",
       "      <th>Bike ID</th>\n",
       "      <th>User Type</th>\n",
       "      <th>Birth Year</th>\n",
       "      <th>Gender</th>\n",
       "    </tr>\n",
       "  </thead>\n",
       "  <tbody>\n",
       "    <tr>\n",
       "      <th>0</th>\n",
       "      <td>361</td>\n",
       "      <td>2016-02-01 00:31:18</td>\n",
       "      <td>2016-02-01 00:37:19</td>\n",
       "      <td>3202</td>\n",
       "      <td>Newport PATH</td>\n",
       "      <td>40.727224</td>\n",
       "      <td>-74.033759</td>\n",
       "      <td>3203</td>\n",
       "      <td>Hamilton Park</td>\n",
       "      <td>40.727596</td>\n",
       "      <td>-74.044247</td>\n",
       "      <td>24393</td>\n",
       "      <td>Subscriber</td>\n",
       "      <td>1975.0</td>\n",
       "      <td>1</td>\n",
       "    </tr>\n",
       "    <tr>\n",
       "      <th>1</th>\n",
       "      <td>297</td>\n",
       "      <td>2016-02-01 01:55:05</td>\n",
       "      <td>2016-02-01 02:00:02</td>\n",
       "      <td>3195</td>\n",
       "      <td>Sip Ave</td>\n",
       "      <td>40.730743</td>\n",
       "      <td>-74.063784</td>\n",
       "      <td>3194</td>\n",
       "      <td>McGinley Square</td>\n",
       "      <td>40.725340</td>\n",
       "      <td>-74.067622</td>\n",
       "      <td>24394</td>\n",
       "      <td>Subscriber</td>\n",
       "      <td>1985.0</td>\n",
       "      <td>2</td>\n",
       "    </tr>\n",
       "    <tr>\n",
       "      <th>2</th>\n",
       "      <td>1155</td>\n",
       "      <td>2016-02-01 02:40:05</td>\n",
       "      <td>2016-02-01 02:59:20</td>\n",
       "      <td>3183</td>\n",
       "      <td>Exchange Place</td>\n",
       "      <td>40.716247</td>\n",
       "      <td>-74.033459</td>\n",
       "      <td>3210</td>\n",
       "      <td>Pershing Field</td>\n",
       "      <td>40.742677</td>\n",
       "      <td>-74.051789</td>\n",
       "      <td>24676</td>\n",
       "      <td>Subscriber</td>\n",
       "      <td>1976.0</td>\n",
       "      <td>1</td>\n",
       "    </tr>\n",
       "    <tr>\n",
       "      <th>3</th>\n",
       "      <td>1769</td>\n",
       "      <td>2016-02-01 05:11:28</td>\n",
       "      <td>2016-02-01 05:40:58</td>\n",
       "      <td>3214</td>\n",
       "      <td>Essex Light Rail</td>\n",
       "      <td>40.712774</td>\n",
       "      <td>-74.036486</td>\n",
       "      <td>3203</td>\n",
       "      <td>Hamilton Park</td>\n",
       "      <td>40.727596</td>\n",
       "      <td>-74.044247</td>\n",
       "      <td>24700</td>\n",
       "      <td>Subscriber</td>\n",
       "      <td>1974.0</td>\n",
       "      <td>2</td>\n",
       "    </tr>\n",
       "    <tr>\n",
       "      <th>4</th>\n",
       "      <td>935</td>\n",
       "      <td>2016-02-01 05:48:24</td>\n",
       "      <td>2016-02-01 06:03:59</td>\n",
       "      <td>3203</td>\n",
       "      <td>Hamilton Park</td>\n",
       "      <td>40.727596</td>\n",
       "      <td>-74.044247</td>\n",
       "      <td>3214</td>\n",
       "      <td>Essex Light Rail</td>\n",
       "      <td>40.712774</td>\n",
       "      <td>-74.036486</td>\n",
       "      <td>24639</td>\n",
       "      <td>Subscriber</td>\n",
       "      <td>1974.0</td>\n",
       "      <td>2</td>\n",
       "    </tr>\n",
       "  </tbody>\n",
       "</table>\n",
       "</div>"
      ],
      "text/plain": [
       "   Trip Duration           Start Time            Stop Time  Start Station ID  \\\n",
       "0            361  2016-02-01 00:31:18  2016-02-01 00:37:19              3202   \n",
       "1            297  2016-02-01 01:55:05  2016-02-01 02:00:02              3195   \n",
       "2           1155  2016-02-01 02:40:05  2016-02-01 02:59:20              3183   \n",
       "3           1769  2016-02-01 05:11:28  2016-02-01 05:40:58              3214   \n",
       "4            935  2016-02-01 05:48:24  2016-02-01 06:03:59              3203   \n",
       "\n",
       "  Start Station Name  Start Station Latitude  Start Station Longitude  \\\n",
       "0       Newport PATH               40.727224               -74.033759   \n",
       "1            Sip Ave               40.730743               -74.063784   \n",
       "2     Exchange Place               40.716247               -74.033459   \n",
       "3   Essex Light Rail               40.712774               -74.036486   \n",
       "4      Hamilton Park               40.727596               -74.044247   \n",
       "\n",
       "   End Station ID  End Station Name  End Station Latitude  \\\n",
       "0            3203     Hamilton Park             40.727596   \n",
       "1            3194   McGinley Square             40.725340   \n",
       "2            3210    Pershing Field             40.742677   \n",
       "3            3203     Hamilton Park             40.727596   \n",
       "4            3214  Essex Light Rail             40.712774   \n",
       "\n",
       "   End Station Longitude  Bike ID   User Type  Birth Year  Gender  \n",
       "0             -74.044247    24393  Subscriber      1975.0       1  \n",
       "1             -74.067622    24394  Subscriber      1985.0       2  \n",
       "2             -74.051789    24676  Subscriber      1976.0       1  \n",
       "3             -74.044247    24700  Subscriber      1974.0       2  \n",
       "4             -74.036486    24639  Subscriber      1974.0       2  "
      ]
     },
     "execution_count": 9,
     "metadata": {},
     "output_type": "execute_result"
    }
   ],
   "source": [
    "df.head(5)"
   ]
  },
  {
   "cell_type": "code",
   "execution_count": 11,
   "id": "74cfce5a-6029-41bc-80bd-9aff445b3345",
   "metadata": {},
   "outputs": [
    {
     "data": {
      "text/plain": [
       "Trip Duration                int64\n",
       "Start Time                  object\n",
       "Stop Time                   object\n",
       "Start Station ID             int64\n",
       "Start Station Name          object\n",
       "Start Station Latitude     float64\n",
       "Start Station Longitude    float64\n",
       "End Station ID               int64\n",
       "End Station Name            object\n",
       "End Station Latitude       float64\n",
       "End Station Longitude      float64\n",
       "Bike ID                      int64\n",
       "User Type                   object\n",
       "Birth Year                 float64\n",
       "Gender                       int64\n",
       "dtype: object"
      ]
     },
     "execution_count": 11,
     "metadata": {},
     "output_type": "execute_result"
    }
   ],
   "source": [
    "#Start Time, Stop Time, and Birth Year seem like they should be timestamps and dates, but are objects. \n",
    "df.dtypes"
   ]
  },
  {
   "cell_type": "code",
   "execution_count": 13,
   "id": "4ee105fa-9ddf-437c-98ec-ef9b24296fbd",
   "metadata": {},
   "outputs": [
    {
     "data": {
      "text/plain": [
       "<bound method NDFrame.describe of        Trip Duration           Start Time            Stop Time  \\\n",
       "0                361  2016-02-01 00:31:18  2016-02-01 00:37:19   \n",
       "1                297  2016-02-01 01:55:05  2016-02-01 02:00:02   \n",
       "2               1155  2016-02-01 02:40:05  2016-02-01 02:59:20   \n",
       "3               1769  2016-02-01 05:11:28  2016-02-01 05:40:58   \n",
       "4                935  2016-02-01 05:48:24  2016-02-01 06:03:59   \n",
       "...              ...                  ...                  ...   \n",
       "19483            249  2016-05-31 23:16:00  2016-05-31 23:20:10   \n",
       "19484            650  2016-05-31 23:18:32  2016-05-31 23:29:23   \n",
       "19485           2048  2016-05-31 23:25:28  2016-05-31 23:59:36   \n",
       "19486            455  2016-05-31 23:31:57  2016-05-31 23:39:32   \n",
       "19487            239  2016-05-31 23:47:38  2016-05-31 23:51:37   \n",
       "\n",
       "       Start Station ID Start Station Name  Start Station Latitude  \\\n",
       "0                  3202       Newport PATH               40.727224   \n",
       "1                  3195            Sip Ave               40.730743   \n",
       "2                  3183     Exchange Place               40.716247   \n",
       "3                  3214   Essex Light Rail               40.712774   \n",
       "4                  3203      Hamilton Park               40.727596   \n",
       "...                 ...                ...                     ...   \n",
       "19483              3186      Grove St PATH               40.719586   \n",
       "19484              3209       Brunswick St               40.724176   \n",
       "19485              3199       Newport Pkwy               40.728745   \n",
       "19486              3220  5 Corners Library               40.734961   \n",
       "19487              3185          City Hall               40.717732   \n",
       "\n",
       "       Start Station Longitude  End Station ID  End Station Name  \\\n",
       "0                   -74.033759            3203     Hamilton Park   \n",
       "1                   -74.063784            3194   McGinley Square   \n",
       "2                   -74.033459            3210    Pershing Field   \n",
       "3                   -74.036486            3203     Hamilton Park   \n",
       "4                   -74.044247            3214  Essex Light Rail   \n",
       "...                        ...             ...               ...   \n",
       "19483               -74.043117            3209      Brunswick St   \n",
       "19484               -74.050656            3211        Newark Ave   \n",
       "19485               -74.032108            3199      Newport Pkwy   \n",
       "19486               -74.059503            3215       Central Ave   \n",
       "19487               -74.043845            3211        Newark Ave   \n",
       "\n",
       "       End Station Latitude  End Station Longitude  Bike ID   User Type  \\\n",
       "0                 40.727596             -74.044247    24393  Subscriber   \n",
       "1                 40.725340             -74.067622    24394  Subscriber   \n",
       "2                 40.742677             -74.051789    24676  Subscriber   \n",
       "3                 40.727596             -74.044247    24700  Subscriber   \n",
       "4                 40.712774             -74.036486    24639  Subscriber   \n",
       "...                     ...                    ...      ...         ...   \n",
       "19483             40.724176             -74.050656    24668  Subscriber   \n",
       "19484             40.721525             -74.046305    24517  Subscriber   \n",
       "19485             40.728745             -74.032108    24573  Subscriber   \n",
       "19486             40.746730             -74.049251    24561  Subscriber   \n",
       "19487             40.721525             -74.046305    24685  Subscriber   \n",
       "\n",
       "       Birth Year  Gender  \n",
       "0          1975.0       1  \n",
       "1          1985.0       2  \n",
       "2          1976.0       1  \n",
       "3          1974.0       2  \n",
       "4          1974.0       2  \n",
       "...           ...     ...  \n",
       "19483      1976.0       1  \n",
       "19484      1986.0       1  \n",
       "19485      1975.0       1  \n",
       "19486      1964.0       1  \n",
       "19487      1993.0       1  \n",
       "\n",
       "[247584 rows x 15 columns]>"
      ]
     },
     "execution_count": 13,
     "metadata": {},
     "output_type": "execute_result"
    }
   ],
   "source": [
    "#[247584 rows x 15 columns]\n",
    "df.describe"
   ]
  },
  {
   "cell_type": "code",
   "execution_count": 15,
   "id": "f65480e8-42a5-4e50-8b22-8eb64cb7c7c6",
   "metadata": {},
   "outputs": [
    {
     "name": "stdout",
     "output_type": "stream",
     "text": [
      "<class 'pandas.core.frame.DataFrame'>\n",
      "Index: 247584 entries, 0 to 19487\n",
      "Data columns (total 15 columns):\n",
      " #   Column                   Non-Null Count   Dtype  \n",
      "---  ------                   --------------   -----  \n",
      " 0   Trip Duration            247584 non-null  int64  \n",
      " 1   Start Time               247584 non-null  object \n",
      " 2   Stop Time                247584 non-null  object \n",
      " 3   Start Station ID         247584 non-null  int64  \n",
      " 4   Start Station Name       247584 non-null  object \n",
      " 5   Start Station Latitude   247584 non-null  float64\n",
      " 6   Start Station Longitude  247584 non-null  float64\n",
      " 7   End Station ID           247584 non-null  int64  \n",
      " 8   End Station Name         247584 non-null  object \n",
      " 9   End Station Latitude     247584 non-null  float64\n",
      " 10  End Station Longitude    247584 non-null  float64\n",
      " 11  Bike ID                  247584 non-null  int64  \n",
      " 12  User Type                247204 non-null  object \n",
      " 13  Birth Year               228585 non-null  float64\n",
      " 14  Gender                   247584 non-null  int64  \n",
      "dtypes: float64(5), int64(5), object(5)\n",
      "memory usage: 30.2+ MB\n"
     ]
    }
   ],
   "source": [
    "#User Type has 380 null values, <br> and Birth Year has 18,999 null values\n",
    "df.info()"
   ]
  },
  {
   "cell_type": "code",
   "execution_count": 17,
   "id": "e7fcb7a3-583c-48aa-9491-d8e78d21c885",
   "metadata": {},
   "outputs": [
    {
     "data": {
      "text/plain": [
       "(247584, 15)"
      ]
     },
     "execution_count": 17,
     "metadata": {},
     "output_type": "execute_result"
    }
   ],
   "source": [
    "df.shape"
   ]
  },
  {
   "cell_type": "markdown",
   "id": "a7dac081-aa55-40ab-95e4-3fa17de64691",
   "metadata": {},
   "source": [
    "### Locating the Column With the Most Unique Locations"
   ]
  },
  {
   "cell_type": "code",
   "execution_count": 20,
   "id": "4f561a37-a283-4aac-9e2a-93da8ad4eb77",
   "metadata": {},
   "outputs": [
    {
     "data": {
      "text/plain": [
       "(51,)"
      ]
     },
     "execution_count": 20,
     "metadata": {},
     "output_type": "execute_result"
    }
   ],
   "source": [
    "#Are there more starts or ends? 51 starts\n",
    "start_station_names = df['Start Station Name'].unique()\n",
    "start_station_names.shape"
   ]
  },
  {
   "cell_type": "code",
   "execution_count": 22,
   "id": "f397dcb9-0622-4402-8b48-95d19266a263",
   "metadata": {},
   "outputs": [
    {
     "data": {
      "text/plain": [
       "(102,)"
      ]
     },
     "execution_count": 22,
     "metadata": {},
     "output_type": "execute_result"
    }
   ],
   "source": [
    "#There are more ends: 102 ends\n",
    "end_station_names = df['End Station Name'].unique()\n",
    "end_station_names.shape"
   ]
  },
  {
   "cell_type": "markdown",
   "id": "a9843596-b225-4769-848b-6f7bc54cc71e",
   "metadata": {},
   "source": [
    "## Cleaning"
   ]
  },
  {
   "cell_type": "markdown",
   "id": "efb793de-a071-4360-a530-d29982d4b6cb",
   "metadata": {},
   "source": [
    "### Changing DataTypes"
   ]
  },
  {
   "cell_type": "code",
   "execution_count": 26,
   "id": "1839ecff-f84f-427e-9084-f56a47ebaa67",
   "metadata": {},
   "outputs": [],
   "source": [
    "df['Trip Duration'] = pd.to_timedelta(df['Trip Duration'], unit='s')\n",
    "df['Start Time'] = pd.to_datetime(df['Start Time'])\n",
    "df['Stop Time'] = pd.to_datetime(df['Stop Time'])"
   ]
  },
  {
   "cell_type": "markdown",
   "id": "2d6dfe01-8fcb-458e-a766-f677e2890b8f",
   "metadata": {},
   "source": [
    "### New 'Date' Column"
   ]
  },
  {
   "cell_type": "code",
   "execution_count": 29,
   "id": "3fbc0ed2-b767-4e37-a115-310b1633be19",
   "metadata": {},
   "outputs": [],
   "source": [
    "df['Date'] = pd.to_datetime(df['Start Time']).dt.date"
   ]
  },
  {
   "cell_type": "markdown",
   "id": "b48828df-01dd-46e2-a212-536b078946df",
   "metadata": {},
   "source": [
    "### Missing Values"
   ]
  },
  {
   "cell_type": "markdown",
   "id": "5046770d-7ac7-422c-9a0e-91d3be195c37",
   "metadata": {},
   "source": [
    "### Addressing NaN User Types"
   ]
  },
  {
   "cell_type": "code",
   "execution_count": 33,
   "id": "4d9d3b47-4c74-40ad-a88a-e490938c6aa0",
   "metadata": {},
   "outputs": [
    {
     "data": {
      "text/plain": [
       "array(['Subscriber', 'Customer', nan], dtype=object)"
      ]
     },
     "execution_count": 33,
     "metadata": {},
     "output_type": "execute_result"
    }
   ],
   "source": [
    "user_type = df['User Type'].unique()\n",
    "user_type"
   ]
  },
  {
   "cell_type": "markdown",
   "id": "4cf9e933-7a4a-4eec-8e9f-a49da354fd59",
   "metadata": {},
   "source": [
    "### Multiple Imputation for Birth Year NaN"
   ]
  },
  {
   "cell_type": "code",
   "execution_count": 36,
   "id": "883deec4-0f84-4ee6-93b9-b22e6e19e863",
   "metadata": {},
   "outputs": [],
   "source": [
    "#Providing a test series for trialing the Imputation\n",
    "birth_year_test = {'X': [1975.0, 1985.0, 1976.0, 1974.0, 1974.0, np.nan, 1990.0, 1988.0, 1984.0, 1986.0]}"
   ]
  },
  {
   "cell_type": "code",
   "execution_count": 38,
   "id": "62c2b18c-8c84-4758-b9b2-3015feb5a81e",
   "metadata": {},
   "outputs": [],
   "source": [
    "#Creating the DataFrame for the test data\n",
    "df_test = pd.DataFrame(data = birth_year_test)"
   ]
  },
  {
   "cell_type": "code",
   "execution_count": 40,
   "id": "d43827dd-e0f3-4df8-8462-40c09ce19bb4",
   "metadata": {},
   "outputs": [],
   "source": [
    "#Setting up the imputer\n",
    "imp = IterativeImputer(max_iter=10, random_state=0)"
   ]
  },
  {
   "cell_type": "code",
   "execution_count": 42,
   "id": "5371450c-5853-4139-90d4-a459c7091036",
   "metadata": {},
   "outputs": [
    {
     "data": {
      "text/html": [
       "<style>#sk-container-id-1 {\n",
       "  /* Definition of color scheme common for light and dark mode */\n",
       "  --sklearn-color-text: black;\n",
       "  --sklearn-color-line: gray;\n",
       "  /* Definition of color scheme for unfitted estimators */\n",
       "  --sklearn-color-unfitted-level-0: #fff5e6;\n",
       "  --sklearn-color-unfitted-level-1: #f6e4d2;\n",
       "  --sklearn-color-unfitted-level-2: #ffe0b3;\n",
       "  --sklearn-color-unfitted-level-3: chocolate;\n",
       "  /* Definition of color scheme for fitted estimators */\n",
       "  --sklearn-color-fitted-level-0: #f0f8ff;\n",
       "  --sklearn-color-fitted-level-1: #d4ebff;\n",
       "  --sklearn-color-fitted-level-2: #b3dbfd;\n",
       "  --sklearn-color-fitted-level-3: cornflowerblue;\n",
       "\n",
       "  /* Specific color for light theme */\n",
       "  --sklearn-color-text-on-default-background: var(--sg-text-color, var(--theme-code-foreground, var(--jp-content-font-color1, black)));\n",
       "  --sklearn-color-background: var(--sg-background-color, var(--theme-background, var(--jp-layout-color0, white)));\n",
       "  --sklearn-color-border-box: var(--sg-text-color, var(--theme-code-foreground, var(--jp-content-font-color1, black)));\n",
       "  --sklearn-color-icon: #696969;\n",
       "\n",
       "  @media (prefers-color-scheme: dark) {\n",
       "    /* Redefinition of color scheme for dark theme */\n",
       "    --sklearn-color-text-on-default-background: var(--sg-text-color, var(--theme-code-foreground, var(--jp-content-font-color1, white)));\n",
       "    --sklearn-color-background: var(--sg-background-color, var(--theme-background, var(--jp-layout-color0, #111)));\n",
       "    --sklearn-color-border-box: var(--sg-text-color, var(--theme-code-foreground, var(--jp-content-font-color1, white)));\n",
       "    --sklearn-color-icon: #878787;\n",
       "  }\n",
       "}\n",
       "\n",
       "#sk-container-id-1 {\n",
       "  color: var(--sklearn-color-text);\n",
       "}\n",
       "\n",
       "#sk-container-id-1 pre {\n",
       "  padding: 0;\n",
       "}\n",
       "\n",
       "#sk-container-id-1 input.sk-hidden--visually {\n",
       "  border: 0;\n",
       "  clip: rect(1px 1px 1px 1px);\n",
       "  clip: rect(1px, 1px, 1px, 1px);\n",
       "  height: 1px;\n",
       "  margin: -1px;\n",
       "  overflow: hidden;\n",
       "  padding: 0;\n",
       "  position: absolute;\n",
       "  width: 1px;\n",
       "}\n",
       "\n",
       "#sk-container-id-1 div.sk-dashed-wrapped {\n",
       "  border: 1px dashed var(--sklearn-color-line);\n",
       "  margin: 0 0.4em 0.5em 0.4em;\n",
       "  box-sizing: border-box;\n",
       "  padding-bottom: 0.4em;\n",
       "  background-color: var(--sklearn-color-background);\n",
       "}\n",
       "\n",
       "#sk-container-id-1 div.sk-container {\n",
       "  /* jupyter's `normalize.less` sets `[hidden] { display: none; }`\n",
       "     but bootstrap.min.css set `[hidden] { display: none !important; }`\n",
       "     so we also need the `!important` here to be able to override the\n",
       "     default hidden behavior on the sphinx rendered scikit-learn.org.\n",
       "     See: https://github.com/scikit-learn/scikit-learn/issues/21755 */\n",
       "  display: inline-block !important;\n",
       "  position: relative;\n",
       "}\n",
       "\n",
       "#sk-container-id-1 div.sk-text-repr-fallback {\n",
       "  display: none;\n",
       "}\n",
       "\n",
       "div.sk-parallel-item,\n",
       "div.sk-serial,\n",
       "div.sk-item {\n",
       "  /* draw centered vertical line to link estimators */\n",
       "  background-image: linear-gradient(var(--sklearn-color-text-on-default-background), var(--sklearn-color-text-on-default-background));\n",
       "  background-size: 2px 100%;\n",
       "  background-repeat: no-repeat;\n",
       "  background-position: center center;\n",
       "}\n",
       "\n",
       "/* Parallel-specific style estimator block */\n",
       "\n",
       "#sk-container-id-1 div.sk-parallel-item::after {\n",
       "  content: \"\";\n",
       "  width: 100%;\n",
       "  border-bottom: 2px solid var(--sklearn-color-text-on-default-background);\n",
       "  flex-grow: 1;\n",
       "}\n",
       "\n",
       "#sk-container-id-1 div.sk-parallel {\n",
       "  display: flex;\n",
       "  align-items: stretch;\n",
       "  justify-content: center;\n",
       "  background-color: var(--sklearn-color-background);\n",
       "  position: relative;\n",
       "}\n",
       "\n",
       "#sk-container-id-1 div.sk-parallel-item {\n",
       "  display: flex;\n",
       "  flex-direction: column;\n",
       "}\n",
       "\n",
       "#sk-container-id-1 div.sk-parallel-item:first-child::after {\n",
       "  align-self: flex-end;\n",
       "  width: 50%;\n",
       "}\n",
       "\n",
       "#sk-container-id-1 div.sk-parallel-item:last-child::after {\n",
       "  align-self: flex-start;\n",
       "  width: 50%;\n",
       "}\n",
       "\n",
       "#sk-container-id-1 div.sk-parallel-item:only-child::after {\n",
       "  width: 0;\n",
       "}\n",
       "\n",
       "/* Serial-specific style estimator block */\n",
       "\n",
       "#sk-container-id-1 div.sk-serial {\n",
       "  display: flex;\n",
       "  flex-direction: column;\n",
       "  align-items: center;\n",
       "  background-color: var(--sklearn-color-background);\n",
       "  padding-right: 1em;\n",
       "  padding-left: 1em;\n",
       "}\n",
       "\n",
       "\n",
       "/* Toggleable style: style used for estimator/Pipeline/ColumnTransformer box that is\n",
       "clickable and can be expanded/collapsed.\n",
       "- Pipeline and ColumnTransformer use this feature and define the default style\n",
       "- Estimators will overwrite some part of the style using the `sk-estimator` class\n",
       "*/\n",
       "\n",
       "/* Pipeline and ColumnTransformer style (default) */\n",
       "\n",
       "#sk-container-id-1 div.sk-toggleable {\n",
       "  /* Default theme specific background. It is overwritten whether we have a\n",
       "  specific estimator or a Pipeline/ColumnTransformer */\n",
       "  background-color: var(--sklearn-color-background);\n",
       "}\n",
       "\n",
       "/* Toggleable label */\n",
       "#sk-container-id-1 label.sk-toggleable__label {\n",
       "  cursor: pointer;\n",
       "  display: block;\n",
       "  width: 100%;\n",
       "  margin-bottom: 0;\n",
       "  padding: 0.5em;\n",
       "  box-sizing: border-box;\n",
       "  text-align: center;\n",
       "}\n",
       "\n",
       "#sk-container-id-1 label.sk-toggleable__label-arrow:before {\n",
       "  /* Arrow on the left of the label */\n",
       "  content: \"▸\";\n",
       "  float: left;\n",
       "  margin-right: 0.25em;\n",
       "  color: var(--sklearn-color-icon);\n",
       "}\n",
       "\n",
       "#sk-container-id-1 label.sk-toggleable__label-arrow:hover:before {\n",
       "  color: var(--sklearn-color-text);\n",
       "}\n",
       "\n",
       "/* Toggleable content - dropdown */\n",
       "\n",
       "#sk-container-id-1 div.sk-toggleable__content {\n",
       "  max-height: 0;\n",
       "  max-width: 0;\n",
       "  overflow: hidden;\n",
       "  text-align: left;\n",
       "  /* unfitted */\n",
       "  background-color: var(--sklearn-color-unfitted-level-0);\n",
       "}\n",
       "\n",
       "#sk-container-id-1 div.sk-toggleable__content.fitted {\n",
       "  /* fitted */\n",
       "  background-color: var(--sklearn-color-fitted-level-0);\n",
       "}\n",
       "\n",
       "#sk-container-id-1 div.sk-toggleable__content pre {\n",
       "  margin: 0.2em;\n",
       "  border-radius: 0.25em;\n",
       "  color: var(--sklearn-color-text);\n",
       "  /* unfitted */\n",
       "  background-color: var(--sklearn-color-unfitted-level-0);\n",
       "}\n",
       "\n",
       "#sk-container-id-1 div.sk-toggleable__content.fitted pre {\n",
       "  /* unfitted */\n",
       "  background-color: var(--sklearn-color-fitted-level-0);\n",
       "}\n",
       "\n",
       "#sk-container-id-1 input.sk-toggleable__control:checked~div.sk-toggleable__content {\n",
       "  /* Expand drop-down */\n",
       "  max-height: 200px;\n",
       "  max-width: 100%;\n",
       "  overflow: auto;\n",
       "}\n",
       "\n",
       "#sk-container-id-1 input.sk-toggleable__control:checked~label.sk-toggleable__label-arrow:before {\n",
       "  content: \"▾\";\n",
       "}\n",
       "\n",
       "/* Pipeline/ColumnTransformer-specific style */\n",
       "\n",
       "#sk-container-id-1 div.sk-label input.sk-toggleable__control:checked~label.sk-toggleable__label {\n",
       "  color: var(--sklearn-color-text);\n",
       "  background-color: var(--sklearn-color-unfitted-level-2);\n",
       "}\n",
       "\n",
       "#sk-container-id-1 div.sk-label.fitted input.sk-toggleable__control:checked~label.sk-toggleable__label {\n",
       "  background-color: var(--sklearn-color-fitted-level-2);\n",
       "}\n",
       "\n",
       "/* Estimator-specific style */\n",
       "\n",
       "/* Colorize estimator box */\n",
       "#sk-container-id-1 div.sk-estimator input.sk-toggleable__control:checked~label.sk-toggleable__label {\n",
       "  /* unfitted */\n",
       "  background-color: var(--sklearn-color-unfitted-level-2);\n",
       "}\n",
       "\n",
       "#sk-container-id-1 div.sk-estimator.fitted input.sk-toggleable__control:checked~label.sk-toggleable__label {\n",
       "  /* fitted */\n",
       "  background-color: var(--sklearn-color-fitted-level-2);\n",
       "}\n",
       "\n",
       "#sk-container-id-1 div.sk-label label.sk-toggleable__label,\n",
       "#sk-container-id-1 div.sk-label label {\n",
       "  /* The background is the default theme color */\n",
       "  color: var(--sklearn-color-text-on-default-background);\n",
       "}\n",
       "\n",
       "/* On hover, darken the color of the background */\n",
       "#sk-container-id-1 div.sk-label:hover label.sk-toggleable__label {\n",
       "  color: var(--sklearn-color-text);\n",
       "  background-color: var(--sklearn-color-unfitted-level-2);\n",
       "}\n",
       "\n",
       "/* Label box, darken color on hover, fitted */\n",
       "#sk-container-id-1 div.sk-label.fitted:hover label.sk-toggleable__label.fitted {\n",
       "  color: var(--sklearn-color-text);\n",
       "  background-color: var(--sklearn-color-fitted-level-2);\n",
       "}\n",
       "\n",
       "/* Estimator label */\n",
       "\n",
       "#sk-container-id-1 div.sk-label label {\n",
       "  font-family: monospace;\n",
       "  font-weight: bold;\n",
       "  display: inline-block;\n",
       "  line-height: 1.2em;\n",
       "}\n",
       "\n",
       "#sk-container-id-1 div.sk-label-container {\n",
       "  text-align: center;\n",
       "}\n",
       "\n",
       "/* Estimator-specific */\n",
       "#sk-container-id-1 div.sk-estimator {\n",
       "  font-family: monospace;\n",
       "  border: 1px dotted var(--sklearn-color-border-box);\n",
       "  border-radius: 0.25em;\n",
       "  box-sizing: border-box;\n",
       "  margin-bottom: 0.5em;\n",
       "  /* unfitted */\n",
       "  background-color: var(--sklearn-color-unfitted-level-0);\n",
       "}\n",
       "\n",
       "#sk-container-id-1 div.sk-estimator.fitted {\n",
       "  /* fitted */\n",
       "  background-color: var(--sklearn-color-fitted-level-0);\n",
       "}\n",
       "\n",
       "/* on hover */\n",
       "#sk-container-id-1 div.sk-estimator:hover {\n",
       "  /* unfitted */\n",
       "  background-color: var(--sklearn-color-unfitted-level-2);\n",
       "}\n",
       "\n",
       "#sk-container-id-1 div.sk-estimator.fitted:hover {\n",
       "  /* fitted */\n",
       "  background-color: var(--sklearn-color-fitted-level-2);\n",
       "}\n",
       "\n",
       "/* Specification for estimator info (e.g. \"i\" and \"?\") */\n",
       "\n",
       "/* Common style for \"i\" and \"?\" */\n",
       "\n",
       ".sk-estimator-doc-link,\n",
       "a:link.sk-estimator-doc-link,\n",
       "a:visited.sk-estimator-doc-link {\n",
       "  float: right;\n",
       "  font-size: smaller;\n",
       "  line-height: 1em;\n",
       "  font-family: monospace;\n",
       "  background-color: var(--sklearn-color-background);\n",
       "  border-radius: 1em;\n",
       "  height: 1em;\n",
       "  width: 1em;\n",
       "  text-decoration: none !important;\n",
       "  margin-left: 1ex;\n",
       "  /* unfitted */\n",
       "  border: var(--sklearn-color-unfitted-level-1) 1pt solid;\n",
       "  color: var(--sklearn-color-unfitted-level-1);\n",
       "}\n",
       "\n",
       ".sk-estimator-doc-link.fitted,\n",
       "a:link.sk-estimator-doc-link.fitted,\n",
       "a:visited.sk-estimator-doc-link.fitted {\n",
       "  /* fitted */\n",
       "  border: var(--sklearn-color-fitted-level-1) 1pt solid;\n",
       "  color: var(--sklearn-color-fitted-level-1);\n",
       "}\n",
       "\n",
       "/* On hover */\n",
       "div.sk-estimator:hover .sk-estimator-doc-link:hover,\n",
       ".sk-estimator-doc-link:hover,\n",
       "div.sk-label-container:hover .sk-estimator-doc-link:hover,\n",
       ".sk-estimator-doc-link:hover {\n",
       "  /* unfitted */\n",
       "  background-color: var(--sklearn-color-unfitted-level-3);\n",
       "  color: var(--sklearn-color-background);\n",
       "  text-decoration: none;\n",
       "}\n",
       "\n",
       "div.sk-estimator.fitted:hover .sk-estimator-doc-link.fitted:hover,\n",
       ".sk-estimator-doc-link.fitted:hover,\n",
       "div.sk-label-container:hover .sk-estimator-doc-link.fitted:hover,\n",
       ".sk-estimator-doc-link.fitted:hover {\n",
       "  /* fitted */\n",
       "  background-color: var(--sklearn-color-fitted-level-3);\n",
       "  color: var(--sklearn-color-background);\n",
       "  text-decoration: none;\n",
       "}\n",
       "\n",
       "/* Span, style for the box shown on hovering the info icon */\n",
       ".sk-estimator-doc-link span {\n",
       "  display: none;\n",
       "  z-index: 9999;\n",
       "  position: relative;\n",
       "  font-weight: normal;\n",
       "  right: .2ex;\n",
       "  padding: .5ex;\n",
       "  margin: .5ex;\n",
       "  width: min-content;\n",
       "  min-width: 20ex;\n",
       "  max-width: 50ex;\n",
       "  color: var(--sklearn-color-text);\n",
       "  box-shadow: 2pt 2pt 4pt #999;\n",
       "  /* unfitted */\n",
       "  background: var(--sklearn-color-unfitted-level-0);\n",
       "  border: .5pt solid var(--sklearn-color-unfitted-level-3);\n",
       "}\n",
       "\n",
       ".sk-estimator-doc-link.fitted span {\n",
       "  /* fitted */\n",
       "  background: var(--sklearn-color-fitted-level-0);\n",
       "  border: var(--sklearn-color-fitted-level-3);\n",
       "}\n",
       "\n",
       ".sk-estimator-doc-link:hover span {\n",
       "  display: block;\n",
       "}\n",
       "\n",
       "/* \"?\"-specific style due to the `<a>` HTML tag */\n",
       "\n",
       "#sk-container-id-1 a.estimator_doc_link {\n",
       "  float: right;\n",
       "  font-size: 1rem;\n",
       "  line-height: 1em;\n",
       "  font-family: monospace;\n",
       "  background-color: var(--sklearn-color-background);\n",
       "  border-radius: 1rem;\n",
       "  height: 1rem;\n",
       "  width: 1rem;\n",
       "  text-decoration: none;\n",
       "  /* unfitted */\n",
       "  color: var(--sklearn-color-unfitted-level-1);\n",
       "  border: var(--sklearn-color-unfitted-level-1) 1pt solid;\n",
       "}\n",
       "\n",
       "#sk-container-id-1 a.estimator_doc_link.fitted {\n",
       "  /* fitted */\n",
       "  border: var(--sklearn-color-fitted-level-1) 1pt solid;\n",
       "  color: var(--sklearn-color-fitted-level-1);\n",
       "}\n",
       "\n",
       "/* On hover */\n",
       "#sk-container-id-1 a.estimator_doc_link:hover {\n",
       "  /* unfitted */\n",
       "  background-color: var(--sklearn-color-unfitted-level-3);\n",
       "  color: var(--sklearn-color-background);\n",
       "  text-decoration: none;\n",
       "}\n",
       "\n",
       "#sk-container-id-1 a.estimator_doc_link.fitted:hover {\n",
       "  /* fitted */\n",
       "  background-color: var(--sklearn-color-fitted-level-3);\n",
       "}\n",
       "</style><div id=\"sk-container-id-1\" class=\"sk-top-container\"><div class=\"sk-text-repr-fallback\"><pre>IterativeImputer(random_state=0)</pre><b>In a Jupyter environment, please rerun this cell to show the HTML representation or trust the notebook. <br />On GitHub, the HTML representation is unable to render, please try loading this page with nbviewer.org.</b></div><div class=\"sk-container\" hidden><div class=\"sk-item\"><div class=\"sk-estimator fitted sk-toggleable\"><input class=\"sk-toggleable__control sk-hidden--visually\" id=\"sk-estimator-id-1\" type=\"checkbox\" checked><label for=\"sk-estimator-id-1\" class=\"sk-toggleable__label fitted sk-toggleable__label-arrow fitted\">&nbsp;&nbsp;IterativeImputer<a class=\"sk-estimator-doc-link fitted\" rel=\"noreferrer\" target=\"_blank\" href=\"https://scikit-learn.org/1.5/modules/generated/sklearn.impute.IterativeImputer.html\">?<span>Documentation for IterativeImputer</span></a><span class=\"sk-estimator-doc-link fitted\">i<span>Fitted</span></span></label><div class=\"sk-toggleable__content fitted\"><pre>IterativeImputer(random_state=0)</pre></div> </div></div></div></div>"
      ],
      "text/plain": [
       "IterativeImputer(random_state=0)"
      ]
     },
     "execution_count": 42,
     "metadata": {},
     "output_type": "execute_result"
    }
   ],
   "source": [
    "imp.fit(df_test)"
   ]
  },
  {
   "cell_type": "code",
   "execution_count": 44,
   "id": "285200b9-9bcd-461c-911e-b1c74f4afc33",
   "metadata": {},
   "outputs": [],
   "source": [
    "# Applying Imputation to DataFrame\n",
    "df['Birth Year'] = np.round(imp.fit_transform(df[['Birth Year']]), 1)"
   ]
  },
  {
   "cell_type": "code",
   "execution_count": 46,
   "id": "1178a8a5-f4ef-4f20-acea-b7d43d9c03b6",
   "metadata": {},
   "outputs": [],
   "source": [
    "# New Column 'Age'\n",
    "df['Age'] = 2016 - df['Birth Year']"
   ]
  },
  {
   "cell_type": "markdown",
   "id": "621521b2-9bd5-435e-9d0f-be82e0a49016",
   "metadata": {},
   "source": [
    "### Dropping the Few Remaining NaN Rows"
   ]
  },
  {
   "cell_type": "code",
   "execution_count": 49,
   "id": "bbc0a4e2-db48-4aad-af2e-6bbe4721756f",
   "metadata": {},
   "outputs": [],
   "source": [
    "df.dropna(inplace=True)"
   ]
  },
  {
   "cell_type": "markdown",
   "id": "8919c600-51b6-4a03-8913-721d717ab1bf",
   "metadata": {},
   "source": [
    "### Haversine Formula Calculates New Column 'Trip Distance' "
   ]
  },
  {
   "cell_type": "code",
   "execution_count": 54,
   "id": "e1c2d5b8-6364-44e4-9331-29a18158fecb",
   "metadata": {},
   "outputs": [
    {
     "name": "stdout",
     "output_type": "stream",
     "text": [
      "       Start Station Latitude  End Station Latitude  Start Station Longitude  \\\n",
      "0                   40.727224             40.727596               -74.033759   \n",
      "1                   40.730743             40.725340               -74.063784   \n",
      "2                   40.716247             40.742677               -74.033459   \n",
      "3                   40.712774             40.727596               -74.036486   \n",
      "4                   40.727596             40.712774               -74.044247   \n",
      "...                       ...                   ...                      ...   \n",
      "19483               40.719586             40.724176               -74.043117   \n",
      "19484               40.724176             40.721525               -74.050656   \n",
      "19485               40.728745             40.728745               -74.032108   \n",
      "19486               40.734961             40.746730               -74.059503   \n",
      "19487               40.717732             40.721525               -74.043845   \n",
      "\n",
      "       End Station Longitude  Trip Length (km)  \n",
      "0                 -74.044247          0.884786  \n",
      "1                 -74.067622          0.682284  \n",
      "2                 -74.051789          3.320056  \n",
      "3                 -74.044247          1.773164  \n",
      "4                 -74.036486          1.773164  \n",
      "...                      ...               ...  \n",
      "19483             -74.050656          0.814972  \n",
      "19484             -74.046305          0.470547  \n",
      "19485             -74.032108          0.000000  \n",
      "19486             -74.049251          1.567985  \n",
      "19487             -74.046305          0.469910  \n",
      "\n",
      "[247204 rows x 5 columns]\n"
     ]
    }
   ],
   "source": [
    "#Earth radius in kilometers (use 3958.8 for miles)\n",
    "R = 6371  \n",
    "\n",
    "# Convert latitude and longitude from degrees to radians\n",
    "df['start_lat_rad'] = np.radians(df['Start Station Latitude'])\n",
    "df['end_lat_rad'] = np.radians(df['End Station Latitude'])\n",
    "df['start_lon_rad'] = np.radians(df['Start Station Longitude'])\n",
    "df['end_lon_rad'] = np.radians(df['End Station Longitude'])\n",
    "\n",
    "# Differences in coordinates\n",
    "df['delta_lat'] = df['end_lat_rad'] - df['start_lat_rad']\n",
    "df['delta_lon'] = df['end_lon_rad'] - df['start_lon_rad']\n",
    "\n",
    "# Haversine formula\n",
    "a = np.sin(df['delta_lat'] / 2)**2 + np.cos(df['start_lat_rad']) * np.cos(df['end_lat_rad']) * np.sin(df['delta_lon'] / 2)**2\n",
    "c = 2 * np.arctan2(np.sqrt(a), np.sqrt(1 - a))\n",
    "\n",
    "# Compute trip distance\n",
    "df['Trip Length (km)'] = R * c\n",
    "\n",
    "# Drop intermediate columns if needed\n",
    "df.drop(columns=['start_lat_rad', 'end_lat_rad', 'start_lon_rad', 'end_lon_rad', 'delta_lat', 'delta_lon'], inplace=True)\n",
    "\n",
    "print(df[['Start Station Latitude', 'End Station Latitude', 'Start Station Longitude', 'End Station Longitude', 'Trip Length (km)']])\n"
   ]
  },
  {
   "cell_type": "markdown",
   "id": "7f2defc3-c178-4552-a927-38fdcb4f2fe5",
   "metadata": {},
   "source": [
    "### Create Alternate Frame With Only Unique Values in the End Station ID column"
   ]
  },
  {
   "cell_type": "code",
   "execution_count": 57,
   "id": "ddd874cb-482d-4b40-b382-8b771ee5720d",
   "metadata": {},
   "outputs": [],
   "source": [
    "#Since the DB table 'locations needs only unique values for IDs\n",
    "unique_df = df.groupby('End Station ID', as_index=False).first()"
   ]
  },
  {
   "cell_type": "markdown",
   "id": "829e53b6-0f2d-41a3-b084-54b72166f22f",
   "metadata": {},
   "source": [
    "### Read-In & Inspect the Weather CSV"
   ]
  },
  {
   "cell_type": "code",
   "execution_count": 60,
   "id": "90f6418a-f1d2-4df5-809e-7e7fb723d43e",
   "metadata": {},
   "outputs": [
    {
     "data": {
      "text/html": [
       "<div>\n",
       "<style scoped>\n",
       "    .dataframe tbody tr th:only-of-type {\n",
       "        vertical-align: middle;\n",
       "    }\n",
       "\n",
       "    .dataframe tbody tr th {\n",
       "        vertical-align: top;\n",
       "    }\n",
       "\n",
       "    .dataframe thead th {\n",
       "        text-align: right;\n",
       "    }\n",
       "</style>\n",
       "<table border=\"1\" class=\"dataframe\">\n",
       "  <thead>\n",
       "    <tr style=\"text-align: right;\">\n",
       "      <th></th>\n",
       "      <th>STATION</th>\n",
       "      <th>NAME</th>\n",
       "      <th>DATE</th>\n",
       "      <th>AWND</th>\n",
       "      <th>PGTM</th>\n",
       "      <th>PRCP</th>\n",
       "      <th>SNOW</th>\n",
       "      <th>SNWD</th>\n",
       "      <th>TAVG</th>\n",
       "      <th>TMAX</th>\n",
       "      <th>TMIN</th>\n",
       "      <th>TSUN</th>\n",
       "      <th>WDF2</th>\n",
       "      <th>WDF5</th>\n",
       "      <th>WSF2</th>\n",
       "      <th>WSF5</th>\n",
       "    </tr>\n",
       "  </thead>\n",
       "  <tbody>\n",
       "    <tr>\n",
       "      <th>0</th>\n",
       "      <td>USW00014734</td>\n",
       "      <td>NEWARK LIBERTY INTERNATIONAL AIRPORT, NJ US</td>\n",
       "      <td>2016-01-01</td>\n",
       "      <td>12.75</td>\n",
       "      <td>NaN</td>\n",
       "      <td>0.0</td>\n",
       "      <td>0.0</td>\n",
       "      <td>0.0</td>\n",
       "      <td>41</td>\n",
       "      <td>43</td>\n",
       "      <td>34</td>\n",
       "      <td>NaN</td>\n",
       "      <td>270</td>\n",
       "      <td>280.0</td>\n",
       "      <td>25.9</td>\n",
       "      <td>35.1</td>\n",
       "    </tr>\n",
       "    <tr>\n",
       "      <th>1</th>\n",
       "      <td>USW00014734</td>\n",
       "      <td>NEWARK LIBERTY INTERNATIONAL AIRPORT, NJ US</td>\n",
       "      <td>2016-01-02</td>\n",
       "      <td>9.40</td>\n",
       "      <td>NaN</td>\n",
       "      <td>0.0</td>\n",
       "      <td>0.0</td>\n",
       "      <td>0.0</td>\n",
       "      <td>36</td>\n",
       "      <td>42</td>\n",
       "      <td>30</td>\n",
       "      <td>NaN</td>\n",
       "      <td>260</td>\n",
       "      <td>260.0</td>\n",
       "      <td>21.0</td>\n",
       "      <td>25.1</td>\n",
       "    </tr>\n",
       "    <tr>\n",
       "      <th>2</th>\n",
       "      <td>USW00014734</td>\n",
       "      <td>NEWARK LIBERTY INTERNATIONAL AIRPORT, NJ US</td>\n",
       "      <td>2016-01-03</td>\n",
       "      <td>10.29</td>\n",
       "      <td>NaN</td>\n",
       "      <td>0.0</td>\n",
       "      <td>0.0</td>\n",
       "      <td>0.0</td>\n",
       "      <td>37</td>\n",
       "      <td>47</td>\n",
       "      <td>28</td>\n",
       "      <td>NaN</td>\n",
       "      <td>270</td>\n",
       "      <td>250.0</td>\n",
       "      <td>23.9</td>\n",
       "      <td>30.0</td>\n",
       "    </tr>\n",
       "    <tr>\n",
       "      <th>3</th>\n",
       "      <td>USW00014734</td>\n",
       "      <td>NEWARK LIBERTY INTERNATIONAL AIRPORT, NJ US</td>\n",
       "      <td>2016-01-04</td>\n",
       "      <td>17.22</td>\n",
       "      <td>NaN</td>\n",
       "      <td>0.0</td>\n",
       "      <td>0.0</td>\n",
       "      <td>0.0</td>\n",
       "      <td>32</td>\n",
       "      <td>35</td>\n",
       "      <td>14</td>\n",
       "      <td>NaN</td>\n",
       "      <td>330</td>\n",
       "      <td>330.0</td>\n",
       "      <td>25.9</td>\n",
       "      <td>33.1</td>\n",
       "    </tr>\n",
       "    <tr>\n",
       "      <th>4</th>\n",
       "      <td>USW00014734</td>\n",
       "      <td>NEWARK LIBERTY INTERNATIONAL AIRPORT, NJ US</td>\n",
       "      <td>2016-01-05</td>\n",
       "      <td>9.84</td>\n",
       "      <td>NaN</td>\n",
       "      <td>0.0</td>\n",
       "      <td>0.0</td>\n",
       "      <td>0.0</td>\n",
       "      <td>19</td>\n",
       "      <td>31</td>\n",
       "      <td>10</td>\n",
       "      <td>NaN</td>\n",
       "      <td>360</td>\n",
       "      <td>350.0</td>\n",
       "      <td>25.1</td>\n",
       "      <td>31.1</td>\n",
       "    </tr>\n",
       "  </tbody>\n",
       "</table>\n",
       "</div>"
      ],
      "text/plain": [
       "       STATION                                         NAME        DATE  \\\n",
       "0  USW00014734  NEWARK LIBERTY INTERNATIONAL AIRPORT, NJ US  2016-01-01   \n",
       "1  USW00014734  NEWARK LIBERTY INTERNATIONAL AIRPORT, NJ US  2016-01-02   \n",
       "2  USW00014734  NEWARK LIBERTY INTERNATIONAL AIRPORT, NJ US  2016-01-03   \n",
       "3  USW00014734  NEWARK LIBERTY INTERNATIONAL AIRPORT, NJ US  2016-01-04   \n",
       "4  USW00014734  NEWARK LIBERTY INTERNATIONAL AIRPORT, NJ US  2016-01-05   \n",
       "\n",
       "    AWND  PGTM  PRCP  SNOW  SNWD  TAVG  TMAX  TMIN  TSUN  WDF2   WDF5  WSF2  \\\n",
       "0  12.75   NaN   0.0   0.0   0.0    41    43    34   NaN   270  280.0  25.9   \n",
       "1   9.40   NaN   0.0   0.0   0.0    36    42    30   NaN   260  260.0  21.0   \n",
       "2  10.29   NaN   0.0   0.0   0.0    37    47    28   NaN   270  250.0  23.9   \n",
       "3  17.22   NaN   0.0   0.0   0.0    32    35    14   NaN   330  330.0  25.9   \n",
       "4   9.84   NaN   0.0   0.0   0.0    19    31    10   NaN   360  350.0  25.1   \n",
       "\n",
       "   WSF5  \n",
       "0  35.1  \n",
       "1  25.1  \n",
       "2  30.0  \n",
       "3  33.1  \n",
       "4  31.1  "
      ]
     },
     "execution_count": 60,
     "metadata": {},
     "output_type": "execute_result"
    }
   ],
   "source": [
    "nw = pd.read_csv('data/newark_airport_2016.csv')\n",
    "#16 columns: STATION, NAME, DATE, AWND, PTGM, PRCP, SNOW, SNWD, TAVG, TMAX, TMIN, TSUN, WDF2, WDF5, WSF2, WSF5 \n",
    "nw.head()"
   ]
  },
  {
   "cell_type": "code",
   "execution_count": 62,
   "id": "127fb120-0d48-4378-a851-6b35296f10fc",
   "metadata": {},
   "outputs": [
    {
     "name": "stdout",
     "output_type": "stream",
     "text": [
      "<class 'pandas.core.frame.DataFrame'>\n",
      "RangeIndex: 366 entries, 0 to 365\n",
      "Data columns (total 16 columns):\n",
      " #   Column   Non-Null Count  Dtype  \n",
      "---  ------   --------------  -----  \n",
      " 0   STATION  366 non-null    object \n",
      " 1   NAME     366 non-null    object \n",
      " 2   DATE     366 non-null    object \n",
      " 3   AWND     366 non-null    float64\n",
      " 4   PGTM     0 non-null      float64\n",
      " 5   PRCP     366 non-null    float64\n",
      " 6   SNOW     366 non-null    float64\n",
      " 7   SNWD     366 non-null    float64\n",
      " 8   TAVG     366 non-null    int64  \n",
      " 9   TMAX     366 non-null    int64  \n",
      " 10  TMIN     366 non-null    int64  \n",
      " 11  TSUN     0 non-null      float64\n",
      " 12  WDF2     366 non-null    int64  \n",
      " 13  WDF5     364 non-null    float64\n",
      " 14  WSF2     366 non-null    float64\n",
      " 15  WSF5     364 non-null    float64\n",
      "dtypes: float64(9), int64(4), object(3)\n",
      "memory usage: 45.9+ KB\n"
     ]
    }
   ],
   "source": [
    "#365 rows\n",
    "nw.info()"
   ]
  },
  {
   "cell_type": "markdown",
   "id": "103020d5-358a-43cf-bdaa-65f24b6a6c9d",
   "metadata": {},
   "source": [
    "### Cleaning the Weather Frame"
   ]
  },
  {
   "cell_type": "code",
   "execution_count": 65,
   "id": "d0c6e854-b2d8-44a7-9559-05a5cf700d62",
   "metadata": {},
   "outputs": [],
   "source": [
    "# Don't need the completely empty columns\n",
    "nw.drop(['PGTM', 'TSUN'], axis=1, inplace=True)"
   ]
  },
  {
   "cell_type": "code",
   "execution_count": 67,
   "id": "8af357a5-14b1-4bb4-ad04-e2843e6f569b",
   "metadata": {},
   "outputs": [],
   "source": [
    "# Changing the data types\n",
    "nw['DATE'] = pd.to_datetime(nw['DATE'])"
   ]
  },
  {
   "cell_type": "code",
   "execution_count": 69,
   "id": "43f79e84-24c5-48b2-851f-69dc01a529a0",
   "metadata": {},
   "outputs": [],
   "source": [
    "#Drop a few incomplete rows\n",
    "nw = nw.dropna()"
   ]
  },
  {
   "cell_type": "markdown",
   "id": "981af5bc-50e6-4df4-946d-6a69f23c5c11",
   "metadata": {},
   "source": [
    "## Database"
   ]
  },
  {
   "cell_type": "markdown",
   "id": "3e47d575-8498-4044-9c54-83c937d6ab34",
   "metadata": {},
   "source": [
    "### Setting Up SQL DB"
   ]
  },
  {
   "cell_type": "markdown",
   "id": "d93ca741-cc1c-4c9f-964e-d63026af12d8",
   "metadata": {},
   "source": [
    "### Queries for SQL DB in Postbird Postgresql"
   ]
  },
  {
   "cell_type": "raw",
   "id": "7d3c1e64-57c1-4058-8693-72dd9fa8892d",
   "metadata": {},
   "source": [
    "CREATE TABLE bikes (\n",
    "id INT PRIMARY KEY\n",
    ");\n",
    "\n",
    "CREATE TABLE locations (\n",
    "id INT PRIMARY KEY,\n",
    "station_name varchar(50),\n",
    "latitude INT,\n",
    "longitude INT\n",
    ");  \n",
    "\n",
    "CREATE TABLE weather (\n",
    "date DATE PRIMARY KEY,\n",
    "temp_avg INT,\n",
    "temp_min INT,\n",
    "temp_max INT,\n",
    "precipitation INT,\n",
    "snow_depth INT,\n",
    "avg_wind INT  \n",
    ");  \n",
    "\n",
    "# Had to ALTER TABLE to put the trips_id in afterward as a foreign key since trips doesn't exist yet.\n",
    "CREATE TABLE users (\n",
    "id bigint PRIMARY KEY GENERATED ALWAYS AS IDENTITY,\n",
    "birth_year varchar(20),\n",
    "age INT,\n",
    "gender INT,\n",
    "user_type varchar(25),\n",
    "bike_id INT REFERENCES bikes(id),\n",
    "trip_id INT REFERENCES trips(id)\n",
    ");  \n",
    "\n",
    "\n",
    "CREATE TABLE trips (\n",
    "id bigint PRIMARY KEY GENERATED ALWAYS AS IDENTITY,\n",
    "date DATE,\n",
    "bike_id bigint REFERENCES bikes(id),\n",
    "user_type varchar(25),\n",
    "user_id bigint REFERENCES users(id),\n",
    "start_location INT,\n",
    "end_location INT,\n",
    "trip_duration varchar(20),\n",
    "trip_distance varchar(20),\n",
    "start_time timestamp(6),\n",
    "end_time timestamp(6)\n",
    "); "
   ]
  },
  {
   "cell_type": "markdown",
   "id": "b95d2e60-88e2-4434-bd54-29dda21ab3c9",
   "metadata": {},
   "source": [
    "### Establish DB Connection"
   ]
  },
  {
   "cell_type": "code",
   "execution_count": 98,
   "id": "b9136c6e-041d-45be-a189-9cf3a36e7977",
   "metadata": {},
   "outputs": [],
   "source": [
    "DB_USER = 'lydiakonstanski'\n",
    "DB_PASSWORD = 'Celeste'\n",
    "DB_HOST = 'localhost'\n",
    "DB_PORT = '5432'\n",
    "DB_NAME = \"Citibike_db\"\n",
    "\n",
    "# Create the database engine\n",
    "engine = create_engine(f'postgresql+psycopg2://{DB_USER}:{DB_PASSWORD}@{DB_HOST}:{DB_PORT}/{DB_NAME}')\n",
    "# Connect to PostgreSQL\n",
    "conn = psycopg2.connect(\n",
    "    dbname=DB_NAME, user=DB_USER, password=DB_PASSWORD, host=DB_HOST, port=DB_PORT\n",
    ")\n",
    "cur = conn.cursor()"
   ]
  },
  {
   "cell_type": "markdown",
   "id": "ef42aca2-4e40-45b3-b86a-67c93a99bb81",
   "metadata": {},
   "source": [
    "### Filling Postbird DB"
   ]
  },
  {
   "cell_type": "raw",
   "id": "fa18d6e1-abe1-4d9b-af8e-0679936d8f87",
   "metadata": {},
   "source": [
    "# BIKES\n",
    "# Convert 'Bike ID' column to a list of tuples (required format for single column execute_values)\n",
    "bike_tuples = [(int(row),) for row in df['Bike ID'].unique()]\n",
    "# Define the INSERT query\n",
    "insert_bikes = \"INSERT INTO bikes (id) VALUES %s\"\n",
    "# Use execute_values for bulk insert (efficient for large data)\n",
    "execute_values(cur, insert_bikes, bike_tuples)\n",
    "# Commit and close\n",
    "conn.commit()\n",
    "cur.close()\n",
    "conn.close()"
   ]
  },
  {
   "cell_type": "raw",
   "id": "d8c544b6-1903-4c4e-9eb0-14c7c4c63eef",
   "metadata": {},
   "source": [
    "# USERS\n",
    "# Columns to a list of tuples (required format for executing multiple column values)\n",
    "user_tuples = [tuple(row) for row in df[['Birth Year', 'Age', 'Gender', 'User Type', 'Bike ID',]].dropna().to_numpy()]\n",
    "user_insert = 'INSERT INTO users (birth_year, age, gender, user_type, bike_id) VALUES %s'\n",
    "execute_values(cur, user_insert, user_tuples)"
   ]
  },
  {
   "cell_type": "raw",
   "id": "e00997b6-068e-4e4d-b952-6f6cca81a2ee",
   "metadata": {},
   "source": [
    "#LOCATIONS\n",
    "locations_tuples = [tuple(row) for row in unique_df[['End Station ID', 'End Station Name', 'End Station Latitude', 'End Station Longitude']].dropna().to_numpy()]\n",
    "locations_insert = 'INSERT INTO locations (id, station_name, latitude, longitude) VALUES %s'\n",
    "execute_values(cur, locations_insert, locations_tuples)\n",
    "conn.commit()\n",
    "cur.close()\n",
    "conn.close()"
   ]
  },
  {
   "cell_type": "raw",
   "id": "c5c19479-6e85-421c-8237-1db31f425891",
   "metadata": {},
   "source": [
    "#WEATHER \n",
    "weather_tuples =[tuple(row) for row in nw[['DATE', 'TAVG', 'TMIN', 'TMAX', 'PRCP', 'SNWD', 'AWND']].dropna().to_numpy()]\n",
    "weather_insert = 'INSERT INTO weather (date, temp_avg, temp_min, temp_max, precipitation, snow_depth, avg_wind) VALUES %s'\n",
    "execute_values(cur, weather_insert, weather_tuples)\n",
    "conn.commit()\n",
    "cur.close()\n",
    "conn.close()"
   ]
  },
  {
   "cell_type": "raw",
   "id": "ca440568-ae0e-45a0-9f5e-aaf7887b63d1",
   "metadata": {},
   "source": [
    "DB_USER = 'lydiakonstanski'\n",
    "DB_PASSWORD = 'Celeste'\n",
    "DB_HOST = 'localhost'\n",
    "DB_PORT = '5432'\n",
    "DB_NAME = \"Citibike_db\"\n",
    "\n",
    "# Create the database engine\n",
    "engine = create_engine(f'postgresql+psycopg2://{DB_USER}:{DB_PASSWORD}@{DB_HOST}:{DB_PORT}/{DB_NAME}')\n",
    "# Connect to PostgreSQL\n",
    "conn = psycopg2.connect(\n",
    "    dbname=DB_NAME, user=DB_USER, password=DB_PASSWORD, host=DB_HOST, port=DB_PORT\n",
    ")\n",
    "cur = conn.cursor()"
   ]
  },
  {
   "cell_type": "raw",
   "id": "dd81c69c-e98d-4ec0-bda7-814d5433049d",
   "metadata": {},
   "source": [
    "#TRIPS\n",
    "trips_tuples = [tuple(row) for row in df[['Start Time', 'Bike ID', 'Start Station ID', 'End Station ID', 'Start Time', 'Stop Time', 'Trip Duration', 'Trip Length (km)' ]].dropna().to_numpy()]\n",
    "trips_insert = 'INSERT INTO trips (date, bike_id, start_location, end_location, start_time, end_time, trip_duration, trip_distance) VALUES %s'\n",
    "execute_values(cur, trips_insert, trips_tuples)\n",
    "conn.commit()\n",
    "cur.close()\n",
    "conn.close()"
   ]
  },
  {
   "cell_type": "code",
   "execution_count": 100,
   "id": "3fdcfe51-0a1d-45e1-805e-de5e3a62f13e",
   "metadata": {},
   "outputs": [],
   "source": [
    "trips_tuples2 = [tuple(row) for row in df[['User Type']].dropna().to_numpy()]\n",
    "trips_insert2 = 'INSERT INTO trips (user_type) VALUES %s'\n",
    "execute_values(cur, trips_insert2, trips_tuples2)\n",
    "conn.commit()\n",
    "cur.close()\n",
    "conn.close()"
   ]
  },
  {
   "cell_type": "markdown",
   "id": "d6f65fd2-bf58-44a1-80f5-64463f4c9239",
   "metadata": {},
   "source": [
    "## Creating Views"
   ]
  },
  {
   "cell_type": "raw",
   "id": "4638380c-a690-401b-9ea6-37644d3a2a01",
   "metadata": {},
   "source": [
    "#I did not establish the db via python, so I am trying out queries prior to creating views.\n",
    "cur.execute('SELECT * FROM bikes')\n",
    "bikes_result = cur.fetchall()\n",
    "for x in bikes_result:\n",
    "    print(x)"
   ]
  },
  {
   "cell_type": "markdown",
   "id": "09cabcfe-a3ea-4d7e-8214-01b71a420139",
   "metadata": {},
   "source": [
    "Questions to answer: \n",
    "* Time on the bike: Max, Min, Average, Distribution\n",
    "* Distance on the bike: Max, Min, Average, Distribution \n",
    "* Temps: Max, Min, Average, Distribution\n",
    "\n",
    "* Count of trips by gender\n",
    "* Length of trip by gender\n",
    "* Count of trips by age\n",
    "* Length of trip by age\n",
    "* Avg temp to avg bike trip\n",
    "* Count of trips in a temp range (with gender, with age)\n",
    "* Count of trips with snow (with gender, with age)\n",
    "* Count of trips with wind (with gender, with age)\n",
    "* Count of trips with sun (with gender, with age)\n",
    "* Avg time of trips in a temp range\n",
    "* Count of trips started in each temp range\n",
    "* Length of trips with snow\n",
    "* Length of trips with wind speed > avg wind speed\n",
    "* Length of trips with wind speed < avg wind speed\n",
    "* Length of trips with sun\n",
    "* When do non-subscribers use bikes the most? At any certain station?\n",
    "\n",
    "Columns: \n",
    "df\n",
    "Trip Duration\n",
    "Start Station Latitude\n",
    "Start Station Longitude\n",
    "End Station Latitude\n",
    "End Station Longitude\n",
    "Gender\n",
    "Birth Year\n",
    "NEW COLUMN: Trip Length\n",
    "\n",
    "nw \n",
    "TAVG\n",
    "TMAX\n",
    "TMIN\n",
    "SNWD\n",
    "AWND\n"
   ]
  },
  {
   "cell_type": "code",
   "execution_count": null,
   "id": "c4e4a8fe-5672-411b-ac38-f9407ba724ca",
   "metadata": {},
   "outputs": [],
   "source": [
    "# time_on_bike view to find: Max, Min, Average, Distribution\n",
    "cur.execute(CREATE VIEW time_on_bike AS t SELECT trips"
   ]
  },
  {
   "cell_type": "code",
   "execution_count": null,
   "id": "2a43d5a2-63e4-40ed-baea-6a256ea905c4",
   "metadata": {},
   "outputs": [],
   "source": [
    "# Distance on the bike view to find: Max, Min, Average, Distribution \n",
    "cur.execute(CREATE VIEW distance_on_bike AS d SELECT trips"
   ]
  },
  {
   "cell_type": "code",
   "execution_count": null,
   "id": "634f7cbc-27d1-466a-9ba7-05dd663180e5",
   "metadata": {},
   "outputs": [],
   "source": [
    "# temps by month view to find: Months, Avg_Temp"
   ]
  },
  {
   "cell_type": "code",
   "execution_count": null,
   "id": "4b1eabed-df9c-4ed0-8967-b1bb2447a9d0",
   "metadata": {},
   "outputs": [],
   "source": [
    "# count of trips by gender: count of trips where Users.gender = 1,  count of trips where Users.gender = 0"
   ]
  },
  {
   "cell_type": "code",
   "execution_count": null,
   "id": "01cc3952-76eb-4293-96cf-bd78c4d6b1aa",
   "metadata": {},
   "outputs": [],
   "source": [
    "# len of trips by gender: count of trips where Users.gender = 1,  count of trips where Users.gender = 0"
   ]
  }
 ],
 "metadata": {
  "kernelspec": {
   "display_name": "Python [conda env:base] *",
   "language": "python",
   "name": "conda-base-py"
  },
  "language_info": {
   "codemirror_mode": {
    "name": "ipython",
    "version": 3
   },
   "file_extension": ".py",
   "mimetype": "text/x-python",
   "name": "python",
   "nbconvert_exporter": "python",
   "pygments_lexer": "ipython3",
   "version": "3.12.2"
  }
 },
 "nbformat": 4,
 "nbformat_minor": 5
}
